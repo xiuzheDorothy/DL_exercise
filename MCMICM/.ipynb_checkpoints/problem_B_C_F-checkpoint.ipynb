{
 "cells": [
  {
   "cell_type": "markdown",
   "metadata": {},
   "source": [
    "# 近年美赛B,C,F题分析"
   ]
  },
  {
   "cell_type": "markdown",
   "metadata": {},
   "source": [
    "## 2019\n",
    "### B: Send in the Drones: Developing an Aerial Disaster Relief Response System"
   ]
  },
  {
   "cell_type": "markdown",
   "metadata": {},
   "source": [
    "### C:The Opioid Crisis"
   ]
  },
  {
   "cell_type": "markdown",
   "metadata": {},
   "source": [
    "问题重述：\n",
    "- 第1部分：利用所提供的NFLIS数据，建立一个数学模型，描述报告的合成类阿片和海洛因事件（案例）在五个州及其县之间**随时间的传播和特点**。使用您的模型，**确定在五个州中的每个州开始使用特定阿片类药物的任何可能位置**。如果你的团队确定的模式和特征会继续发展下去，美国政府应该特别关注哪些具体问题?在什么**药物识别阈值水平**会发生这些问题？你的模型预测它们将在何时何地发生？\n",
    "- 第2部分：利用提供的美国人口普查社会经济数据，解决以下问题：阿片类药物的使用如何达到目前的水平，谁在使用/滥用阿片类药物，是什么导致阿片类药物使用和成瘾的增长，以及为什么人们知道使用阿片类药物的危险，但仍然持续使用，人们提出了大量相互矛盾的假说来解释这些问题。该药物的使用或使用趋势是否与提供的某些美国人口普查的社会经济数据有关？如果是这样，请修改第1部分的模型以包含此数据集中的任何重要因素。\n",
    "- 第3部分：最后，结合第1部分\n",
    "和第2部分的结果，找出应对阿片药物危机的可能策略。使用您的模型测试此策略的有效性；确定成功（或失败）所依赖的重要参数及其界限。\n",
    "\n",
    "除了主报告之外，还需要向组委会提交1-2页的备注、您在此建模过程中基于 DEA / NFLIS 数据库总结发现的任何重要见解或结果。"
   ]
  },
  {
   "cell_type": "markdown",
   "metadata": {},
   "source": [
    "解决方案：\n",
    "\n",
    "190057：对提供的五个州的数据进行了分析。以三个主要因素：1)药物的使用影响2)药物报告的发展趋势3)相关的社会经济因素 为基础建立药物传播模型。\n",
    "\n",
    "对人口普查数据做了处理：\n",
    "- 移除非量化数据如HC04_VC03"
   ]
  }
 ],
 "metadata": {
  "kernelspec": {
   "display_name": "Python 3",
   "language": "python",
   "name": "python3"
  },
  "language_info": {
   "codemirror_mode": {
    "name": "ipython",
    "version": 3
   },
   "file_extension": ".py",
   "mimetype": "text/x-python",
   "name": "python",
   "nbconvert_exporter": "python",
   "pygments_lexer": "ipython3",
   "version": "3.6.5"
  },
  "toc": {
   "base_numbering": 1,
   "nav_menu": {},
   "number_sections": true,
   "sideBar": true,
   "skip_h1_title": false,
   "title_cell": "Table of Contents",
   "title_sidebar": "Contents",
   "toc_cell": false,
   "toc_position": {},
   "toc_section_display": true,
   "toc_window_display": false
  }
 },
 "nbformat": 4,
 "nbformat_minor": 4
}

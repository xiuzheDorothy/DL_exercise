{
 "cells": [
  {
   "cell_type": "markdown",
   "metadata": {},
   "source": [
    "# comprehensions推导式\n",
    "推导式comprehensions（又称解析式），是Python的一种独有特性。推导式是可以从一个数据序列构建另一个新的数据序列的结构体。共有三种推导式，在Python2和3中都有支持：\n",
    "- 列表(list)推导式\n",
    "- 字典(dict)推导式\n",
    "- 集合(set)推导式\n",
    "\n",
    "## 列表推导式\n",
    "```python\n",
    "variable = [out_exp_res for out_exp in input_list if out_exp == 2]\n",
    "```\n",
    "- out_exp_res：列表生成元素表达式，可以是有返回值的函数。\n",
    "- for out_exp in input_list：迭代input_list将out_exp传入out_exp_res表达式中。\n",
    "- if out_exp == 2：根据条件过滤哪些值可以。\n",
    "\n",
    "\n",
    "实例：过滤掉长度小于3的字符串列表（看起来十分鬼畜）"
   ]
  },
  {
   "cell_type": "code",
   "execution_count": 2,
   "metadata": {},
   "outputs": [
    {
     "name": "stdout",
     "output_type": "stream",
     "text": [
      "['alice', 'Jerry', 'Wendy', 'Smith']\n"
     ]
    }
   ],
   "source": [
    "names = ['Bob','Tom','alice','Jerry','Wendy','Smith'] \n",
    "names=[name for name in names if len(name)>3]\n",
    "print(names)"
   ]
  },
  {
   "cell_type": "code",
   "execution_count": 3,
   "metadata": {},
   "outputs": [
    {
     "name": "stdout",
     "output_type": "stream",
     "text": [
      "[(0, 1), (0, 3), (2, 1), (2, 3), (4, 1), (4, 3)]\n"
     ]
    }
   ],
   "source": [
    "print([(x,y) for x in range(5) if x%2==0 for y in range(5) if y%2==1] )"
   ]
  },
  {
   "cell_type": "markdown",
   "metadata": {},
   "source": [
    "## 字典推导式\n",
    "字典推导和列表推导的使用类似，只不过中括号改成大括号。\n",
    "\n",
    "基本格式：{ key_expr: value_expr for value in collection if condition }\n",
    "\n",
    "举例说明：\n",
    "\n",
    "- 用字符串和其长度创建字典"
   ]
  },
  {
   "cell_type": "code",
   "execution_count": 4,
   "metadata": {},
   "outputs": [
    {
     "data": {
      "text/plain": [
       "{'import': 0, 'is': 1, 'with': 2, 'if': 3, 'file': 4, 'exception': 5}"
      ]
     },
     "execution_count": 4,
     "metadata": {},
     "output_type": "execute_result"
    }
   ],
   "source": [
    "strings = ['import','is','with','if','file','exception']\n",
    "D = {key: val for val,key in enumerate(strings)}\n",
    "D"
   ]
  },
  {
   "cell_type": "markdown",
   "metadata": {},
   "source": [
    "- 快速更换key和value"
   ]
  },
  {
   "cell_type": "code",
   "execution_count": 5,
   "metadata": {},
   "outputs": [
    {
     "name": "stdout",
     "output_type": "stream",
     "text": [
      "{10: 'a', 34: 'b'}\n"
     ]
    }
   ],
   "source": [
    "mcase = {'a': 10, 'b': 34}\n",
    "mcase_frequency = {v: k for k, v in mcase.items()}\n",
    "print(mcase_frequency)\n",
    "\n",
    "#  Output: {10: 'a', 34: 'b'}"
   ]
  },
  {
   "cell_type": "markdown",
   "metadata": {},
   "source": [
    "## 集合推导式\n",
    "集合推导式跟列表推导式也是类似的。 唯一的区别在于它使用大括号{ }。\n",
    "\n",
    "基本格式：{ expr for value in collection if condition }"
   ]
  }
 ],
 "metadata": {
  "kernelspec": {
   "display_name": "Python 3",
   "language": "python",
   "name": "python3"
  },
  "language_info": {
   "codemirror_mode": {
    "name": "ipython",
    "version": 3
   },
   "file_extension": ".py",
   "mimetype": "text/x-python",
   "name": "python",
   "nbconvert_exporter": "python",
   "pygments_lexer": "ipython3",
   "version": "3.6.5"
  },
  "toc": {
   "base_numbering": 1,
   "nav_menu": {},
   "number_sections": true,
   "sideBar": true,
   "skip_h1_title": false,
   "title_cell": "Table of Contents",
   "title_sidebar": "Contents",
   "toc_cell": false,
   "toc_position": {},
   "toc_section_display": true,
   "toc_window_display": false
  }
 },
 "nbformat": 4,
 "nbformat_minor": 4
}

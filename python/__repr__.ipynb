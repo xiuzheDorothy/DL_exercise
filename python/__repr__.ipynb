{
 "cells": [
  {
   "cell_type": "markdown",
   "metadata": {},
   "source": [
    "# Python __repr__()方法：显示属性\n",
    "考虑下面这一段代码："
   ]
  },
  {
   "cell_type": "code",
   "execution_count": 2,
   "metadata": {},
   "outputs": [
    {
     "name": "stdout",
     "output_type": "stream",
     "text": [
      "<__main__.CLanguage object at 0x000001C280051FD0>\n"
     ]
    }
   ],
   "source": [
    "class CLanguage:\n",
    "    pass\n",
    "clangs = CLanguage()\n",
    "print(clangs)"
   ]
  },
  {
   "cell_type": "markdown",
   "metadata": {},
   "source": [
    "通常情况下，直接输出某个实例化对象，本意往往是想了解该对象的基本信息，例如该对象有哪些属性，它们的值各是多少等等。但默认情况下，我们得到的信息只会是“类名+object at+内存地址”，对我们了解该实例化对象帮助不大。\n",
    "\n",
    "如果我们希望自定义print类型输出的信息，可以通过重写`__repr__()`方法。事实上，当我们输出某个实例化对象时，其调用的就是该对象的 __repr__() 方法，输出的是该方法的返回值。\n",
    "\n",
    "以本节开头的程序为例，执行 print(clangs) 等同于执行 print(clangs.__repr__())，程序的输出结果是一样的（输出的内存地址可能不同）。和`__init__(self)`的性质一样，Python 中的每个类都包含`__repr__()`方法，因为 object 类包含`__reper__()`方法，而 Python 中所有的类都直接或间接继承自`object`类。"
   ]
  },
  {
   "cell_type": "code",
   "execution_count": 3,
   "metadata": {},
   "outputs": [
    {
     "name": "stdout",
     "output_type": "stream",
     "text": [
      "CLanguage[name=C语言中文网,add=http://c.biancheng.net]\n"
     ]
    }
   ],
   "source": [
    "class CLanguage:\n",
    "    def __init__(self):\n",
    "        self.name = \"C语言中文网\"\n",
    "        self.add = \"http://c.biancheng.net\"\n",
    "    def __repr__(self):\n",
    "        return \"CLanguage[name=\"+ self.name +\",add=\" + self.add +\"]\"\n",
    "clangs = CLanguage()\n",
    "print(clangs)"
   ]
  },
  {
   "cell_type": "code",
   "execution_count": null,
   "metadata": {},
   "outputs": [],
   "source": []
  }
 ],
 "metadata": {
  "kernelspec": {
   "display_name": "Python 3",
   "language": "python",
   "name": "python3"
  },
  "language_info": {
   "codemirror_mode": {
    "name": "ipython",
    "version": 3
   },
   "file_extension": ".py",
   "mimetype": "text/x-python",
   "name": "python",
   "nbconvert_exporter": "python",
   "pygments_lexer": "ipython3",
   "version": "3.6.5"
  },
  "toc": {
   "base_numbering": 1,
   "nav_menu": {},
   "number_sections": true,
   "sideBar": true,
   "skip_h1_title": false,
   "title_cell": "Table of Contents",
   "title_sidebar": "Contents",
   "toc_cell": false,
   "toc_position": {},
   "toc_section_display": true,
   "toc_window_display": false
  }
 },
 "nbformat": 4,
 "nbformat_minor": 4
}

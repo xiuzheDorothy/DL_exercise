{
 "cells": [
  {
   "cell_type": "markdown",
   "metadata": {},
   "source": [
    "# class and object\n",
    "## self"
   ]
  },
  {
   "cell_type": "code",
   "execution_count": 2,
   "metadata": {},
   "outputs": [],
   "source": [
    "class Ball:# 类的开头规定需要大写\n",
    "    def setName(self,name):\n",
    "        self.name=name\n",
    "    def say(self):\n",
    "        print('我叫%s'%self.name)"
   ]
  },
  {
   "cell_type": "code",
   "execution_count": 7,
   "metadata": {},
   "outputs": [
    {
     "name": "stdout",
     "output_type": "stream",
     "text": [
      "我叫a\n"
     ]
    }
   ],
   "source": [
    "a=Ball()\n",
    "a.setName('a')\n",
    "a.say()"
   ]
  },
  {
   "cell_type": "markdown",
   "metadata": {},
   "source": [
    "**self代表类的实例，而非类**\n",
    "\n",
    "类的方法与普通的函数只有一个特别的区别——它们必须有一个额外的第一个参数名称, 按照惯例它的名称是 self"
   ]
  },
  {
   "cell_type": "code",
   "execution_count": 10,
   "metadata": {},
   "outputs": [
    {
     "name": "stdout",
     "output_type": "stream",
     "text": [
      "<__main__.Test object at 0x000001F90F425CF8>\n",
      "<class '__main__.Test'>\n"
     ]
    }
   ],
   "source": [
    "class Test:\n",
    "    def prt(self):\n",
    "        print(self)\n",
    "        print(self.__class__)\n",
    " \n",
    "t = Test()\n",
    "t.prt()   # 调用self方法"
   ]
  },
  {
   "cell_type": "markdown",
   "metadata": {},
   "source": [
    "从执行结果可以很明显的看出，<font color=red>self 代表的是类的实例，代表当前对象的地址</font>，而 self.class 则指向类。\n",
    "\n",
    "self 不是 python 关键字，我们把他换成 runoob 也是可以正常执行的:"
   ]
  },
  {
   "cell_type": "markdown",
   "metadata": {},
   "source": [
    "## 魔法方法之 \\__init\\__(self)\n",
    "类有一个名为 \\__init\\__() 的特殊方法（构造方法），该方法在类实例化时会自动调用，与C++中的构造函数类似，像下面这样："
   ]
  },
  {
   "cell_type": "code",
   "execution_count": 13,
   "metadata": {},
   "outputs": [],
   "source": [
    "def __init__(self):\n",
    "    self.data = []\n",
    "# def __init__(self,param1,param2...)也可以"
   ]
  },
  {
   "cell_type": "code",
   "execution_count": 14,
   "metadata": {},
   "outputs": [],
   "source": [
    "class Ball2:\n",
    "    def __init__(self,name):\n",
    "        self.name=name\n",
    "    def say(self):\n",
    "        print('我叫%s'%self.name)"
   ]
  },
  {
   "cell_type": "code",
   "execution_count": 17,
   "metadata": {},
   "outputs": [
    {
     "name": "stdout",
     "output_type": "stream",
     "text": [
      "我叫asfcv\n"
     ]
    }
   ],
   "source": [
    "a=Ball2('asfcv')# 第一个参数self默认存储该对象的地址。输入的第一个数据‘asfcv’传给了第二个参数\n",
    "a.say()"
   ]
  },
  {
   "cell_type": "markdown",
   "metadata": {},
   "source": [
    "## 公有和私有\n",
    "一般来说默认一个类里的属性和方法是公有的，变为私有只需在前面加上双下划线类的私有属性\n",
    "\\__private_attrs：两个下划线开头，声明该属性为私有，不能在类的外部被使用或直接访问。在类内部的方法中使用时 self.\\__private_attrs。"
   ]
  },
  {
   "cell_type": "code",
   "execution_count": 18,
   "metadata": {},
   "outputs": [
    {
     "data": {
      "text/plain": [
       "'xiuzhe'"
      ]
     },
     "execution_count": 18,
     "metadata": {},
     "output_type": "execute_result"
    }
   ],
   "source": [
    "class Person:\n",
    "    __name='xiuzhe'\n",
    "    def getName(self):\n",
    "        return self.__name\n",
    "p=Person()\n",
    "# p.__name 无法调用，因为是私有\n",
    "#但是可以调用getName()方法\n",
    "p.getName()"
   ]
  },
  {
   "cell_type": "markdown",
   "metadata": {},
   "source": [
    "python在设置公私有的时候采用的是name mangling的模式（是一个伪私有机制），也就是说只是将加上双下划线的变量的名字替换了\n",
    "\n",
    "例如：\\__name→\\_类名\\__name"
   ]
  },
  {
   "cell_type": "code",
   "execution_count": 19,
   "metadata": {},
   "outputs": [
    {
     "data": {
      "text/plain": [
       "'xiuzhe'"
      ]
     },
     "execution_count": 19,
     "metadata": {},
     "output_type": "execute_result"
    }
   ],
   "source": [
    "p._Person__name #等价于p.getName"
   ]
  },
  {
   "cell_type": "markdown",
   "metadata": {},
   "source": [
    "## 继承\n",
    "class DerivedClassName(BaseClassName):......"
   ]
  },
  {
   "cell_type": "code",
   "execution_count": 23,
   "metadata": {},
   "outputs": [
    {
     "name": "stdout",
     "output_type": "stream",
     "text": [
      "父类\n",
      "父类\n",
      "\n",
      "\n",
      "子类\n",
      "父类\n"
     ]
    }
   ],
   "source": [
    "class Parent:\n",
    "    def hello(self):\n",
    "        print(\"父类\")\n",
    "class Child(Parent):\n",
    "    pass\n",
    "p=Parent()\n",
    "p.hello()\n",
    "c=Child()\n",
    "c.hello()\n",
    "print('\\n')\n",
    "class Child(Parent):\n",
    "    def hello(self):\n",
    "        print(\"子类\")\n",
    "c=Child()\n",
    "c.hello()\n",
    "p.hello()"
   ]
  },
  {
   "cell_type": "code",
   "execution_count": null,
   "metadata": {},
   "outputs": [],
   "source": []
  }
 ],
 "metadata": {
  "kernelspec": {
   "display_name": "Python 3",
   "language": "python",
   "name": "python3"
  },
  "language_info": {
   "codemirror_mode": {
    "name": "ipython",
    "version": 3
   },
   "file_extension": ".py",
   "mimetype": "text/x-python",
   "name": "python",
   "nbconvert_exporter": "python",
   "pygments_lexer": "ipython3",
   "version": "3.6.5"
  },
  "toc": {
   "base_numbering": 1,
   "nav_menu": {},
   "number_sections": true,
   "sideBar": true,
   "skip_h1_title": false,
   "title_cell": "Table of Contents",
   "title_sidebar": "Contents",
   "toc_cell": false,
   "toc_position": {},
   "toc_section_display": true,
   "toc_window_display": false
  }
 },
 "nbformat": 4,
 "nbformat_minor": 4
}

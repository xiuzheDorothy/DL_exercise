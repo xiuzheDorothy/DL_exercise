{
 "cells": [
  {
   "cell_type": "markdown",
   "metadata": {},
   "source": [
    "# python的图结构\n",
    "考虑到anaconda版本自带networkx库可以很方便的进行网络学科操作，所以还是不太推荐手撸，调库多方便"
   ]
  },
  {
   "cell_type": "code",
   "execution_count": 1,
   "metadata": {},
   "outputs": [],
   "source": [
    "# Vertex\n",
    "class Vertex(object):\n",
    "    def __init__(self,label=''):\n",
    "        self.label=label\n",
    "    def __repr__(self):\n",
    "        return 'Vertex(%s)' % repr(self.label)\n",
    "# __repr__返回表达式， __str__返回可阅读信息，关于__repr__的更多信息可以看我的博客\n",
    "    __str__=__repr__# 使其指向同一个函数\n",
    "    \n",
    "# Edge\n",
    "class Edge(tuple):\n",
    "    # 继承自建tuple类型并重写new方法\n",
    "    def __new__(cls,e1,e2):\n",
    "        return tuple.__new__(cls,(e1,e2))\n",
    "    def __repr__(self):\n",
    "        return \"Edge(%s, %s)\" % (repr(self[0]), repr(self[1]))\n",
    "    __str__ = __repr__"
   ]
  },
  {
   "cell_type": "code",
   "execution_count": 2,
   "metadata": {},
   "outputs": [],
   "source": [
    "# Graph derived from dict\n",
    "class Graph(dict):\n",
    "    def __init__(self,vs=[],es=[]):\n",
    "        \"\"\"新建一个图，(vs)为vertices列表，(es)为边缘edges列表\"\"\"\n",
    "        for v in vs:\n",
    "            self.add_vertex(v)\n",
    "        for e in es:\n",
    "            self.add_edge(e)\n",
    "            \n",
    "    def add_vertex(self,v):\n",
    "        \"\"\" 添加顶点 v:  使用字典结构\"\"\"\n",
    "        self[v] = {}\n",
    "    \n",
    "    def add_edge(self, e):\n",
    "        \"\"\" 添加边缘 e: e 为一个元组(v,w) \n",
    "        在两个顶点 w 和 v 之间添加成员e ，如果两个顶点之间已有边缘，则替换之 \"\"\"\n",
    "        v, w = e\n",
    "        self[v][w]=e\n",
    "        self[w][v]=e# 无向图，有向图则将其中一个去掉"
   ]
  },
  {
   "cell_type": "code",
   "execution_count": 3,
   "metadata": {},
   "outputs": [],
   "source": [
    "# 基本操作\n",
    "def get_edge(self,v1, v2):\n",
    "        \"\"\" 接收两个顶点，若这两个顶点之间右边则返回这条边，否则返回None \"\"\"\n",
    "        try:\n",
    "            return self[v1][v2]\n",
    "        except:\n",
    "            return None\n",
    "    \n",
    "def remove_edge(self,e):\n",
    "    \"\"\" 接受一条边，并且删除图中该边的所有引用 \"\"\"\n",
    "    v, w = e\n",
    "    self[v].pop(w)\n",
    "    self[w].pop(v)\n",
    "\n",
    "def vertices(self):\n",
    "    \"\"\" 返回图中所有顶点的列表 \"\"\"\n",
    "    return self.keys()\n",
    "\n",
    "def edges(self):\n",
    "    \"\"\" 返回图中边的列表 \"\"\"\n",
    "    es = set()             # 为了避免返回重复的边，设为集合\n",
    "    for v1 in self.vertices():\n",
    "        for v2 in self.vertices():\n",
    "            es.add(self.get_edge(v2, v1))\n",
    "    es.discard(None)        # 若集合中存在None元素,则删除 \n",
    "    return list(es)\n",
    "    \"\"\" 利用图的字典结构获得所有边\n",
    "    es = []\n",
    "    for v in self.vertices():\n",
    "        es.extend(self[v].values())\n",
    "    es = list(set(es))\n",
    "    return es\n",
    "    \"\"\"\n",
    "\n",
    "def out_vertices(self,v):\n",
    "    \"\"\" 接受一个Vertex并返回邻近顶点（通过一条边连接到给定节点的节点）的列表 \"\"\"\n",
    "    return self[v].keys()\n",
    "\n",
    "def out_edges(self,v):\n",
    "    \"\"\" 接受一个Vertex并返回连接到给定节点的边的列表 \"\"\"\n",
    "    return self[v].values()\n",
    "\n",
    "def add_all_edges(self,vs=None):\n",
    "    \"\"\" 从一个无边的图开始，通过在各个顶点间添加边来生成一个完全图\n",
    "        输入为目标顶点的列表，如果为None,则对所有的点进行全联结 \"\"\"\n",
    "    if vs == None:\n",
    "        vs = self.vertices()\n",
    "    for v1 in vs:\n",
    "        for v2 in vs:\n",
    "            if v1 is v2 : continue      # 假设不存在单顶点连通\n",
    "            self.add_edge(Edge(v1,v2))"
   ]
  },
  {
   "cell_type": "code",
   "execution_count": null,
   "metadata": {},
   "outputs": [],
   "source": []
  }
 ],
 "metadata": {
  "kernelspec": {
   "display_name": "Python 3",
   "language": "python",
   "name": "python3"
  },
  "language_info": {
   "codemirror_mode": {
    "name": "ipython",
    "version": 3
   },
   "file_extension": ".py",
   "mimetype": "text/x-python",
   "name": "python",
   "nbconvert_exporter": "python",
   "pygments_lexer": "ipython3",
   "version": "3.6.5"
  },
  "toc": {
   "base_numbering": 1,
   "nav_menu": {},
   "number_sections": true,
   "sideBar": true,
   "skip_h1_title": false,
   "title_cell": "Table of Contents",
   "title_sidebar": "Contents",
   "toc_cell": false,
   "toc_position": {},
   "toc_section_display": true,
   "toc_window_display": false
  }
 },
 "nbformat": 4,
 "nbformat_minor": 4
}

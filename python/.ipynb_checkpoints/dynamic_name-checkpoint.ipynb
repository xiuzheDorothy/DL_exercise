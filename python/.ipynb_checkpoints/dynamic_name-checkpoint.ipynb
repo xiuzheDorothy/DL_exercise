{
 "cells": [
  {
   "cell_type": "markdown",
   "metadata": {},
   "source": [
    "# Python动态变量名定义与调用\n",
    "很多时候遇到数据处理问题，需要根据数据给变量命名，比如data_2010,data_2011,这种，手打好几遍看起来非常麻烦，这时候就需要动态命名：\n",
    "## 使用exec动态赋值\n",
    "exec在python3中是内置函数，它支持python代码的动态执行。"
   ]
  },
  {
   "cell_type": "code",
   "execution_count": 5,
   "metadata": {},
   "outputs": [
    {
     "name": "stdout",
     "output_type": "stream",
     "text": [
      "0 2 4 6 8\n"
     ]
    }
   ],
   "source": [
    "for i in range(5):\n",
    "    exec('var{} = {}'.format(i, i*2))\n",
    "print(var0, var1, var2, var3 ,var4)"
   ]
  },
  {
   "cell_type": "markdown",
   "metadata": {},
   "source": [
    "## 利用命名空间动态赋值\n",
    "在Python的命名空间中，将变量名与值存储在字典中，\n",
    "可以通过locals()，globals()函数分别获取**局部命名空间和全局命名空间**。"
   ]
  },
  {
   "cell_type": "code",
   "execution_count": 6,
   "metadata": {},
   "outputs": [
    {
     "name": "stdout",
     "output_type": "stream",
     "text": [
      "0 1 2 3 4\n"
     ]
    }
   ],
   "source": [
    "names = locals()\n",
    "\n",
    "for i in range(5):\n",
    "    names['n' + str(i) ] = i\n",
    "    \n",
    "print(n0, n1, n2, n3, n4)"
   ]
  },
  {
   "cell_type": "markdown",
   "metadata": {},
   "source": [
    "剩下的在这里：[Python动态变量名定义与调用](https://www.cnblogs.com/technologylife/p/9211324.html)"
   ]
  },
  {
   "cell_type": "code",
   "execution_count": null,
   "metadata": {},
   "outputs": [],
   "source": []
  }
 ],
 "metadata": {
  "kernelspec": {
   "display_name": "Python 3",
   "language": "python",
   "name": "python3"
  },
  "language_info": {
   "codemirror_mode": {
    "name": "ipython",
    "version": 3
   },
   "file_extension": ".py",
   "mimetype": "text/x-python",
   "name": "python",
   "nbconvert_exporter": "python",
   "pygments_lexer": "ipython3",
   "version": "3.6.5"
  },
  "toc": {
   "base_numbering": 1,
   "nav_menu": {},
   "number_sections": true,
   "sideBar": true,
   "skip_h1_title": false,
   "title_cell": "Table of Contents",
   "title_sidebar": "Contents",
   "toc_cell": false,
   "toc_position": {},
   "toc_section_display": true,
   "toc_window_display": false
  }
 },
 "nbformat": 4,
 "nbformat_minor": 4
}

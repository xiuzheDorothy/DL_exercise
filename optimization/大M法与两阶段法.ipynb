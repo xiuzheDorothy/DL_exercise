{
 "cells": [
  {
   "cell_type": "markdown",
   "metadata": {},
   "source": [
    "### 大M法\n",
    "大M法首先将线性规划问题化为标准型。如果约束方程组中包含有一个单位矩阵$I$，那么已经得到了一个初始可行基。否则在约東方程组的左边加上若干个非负的人工变量，<font color=red>使人工变量对应的系数列向量与其它变量的系数列向量共同构成一个单位矩阵</font>。以单位矩阵为初始基，即可求得一个初始的基本可行解。\n",
    "\n",
    "为了求得原问题的初始基本可行解，必须尽快通过迭代过程把人工变量从基变量中替换出来成为非基变量。为此可以在目标函数中赋予人工变量一个<font color=red>绝对值很大的正系数M</font>。这样只要基变量中还存在人工变量，目标函数就不可能实现极小化。以后的计算与单纯形表解法相同，M只需认定是一个很大的正数即可。\n",
    "\n",
    "### 两阶段法\n",
    "- 第一阶段的任务是将人工变量尽快迭代出去，从而找到一个没有人工变量的基础可行解第二阶段以第一阶段得到的基础可行解为初始解，采用原单纯型法求解。\n",
    "- 若第一阶段结東时，人工变量仍在基变量中，则原问题无解。\n",
    "- 为了简化计算，在第一阶段重新定义价值系数如下"
   ]
  },
  {
   "cell_type": "markdown",
   "metadata": {},
   "source": [
    "## 对偶问题"
   ]
  },
  {
   "cell_type": "code",
   "execution_count": null,
   "metadata": {},
   "outputs": [],
   "source": []
  }
 ],
 "metadata": {
  "kernelspec": {
   "display_name": "Python 3",
   "language": "python",
   "name": "python3"
  },
  "language_info": {
   "codemirror_mode": {
    "name": "ipython",
    "version": 3
   },
   "file_extension": ".py",
   "mimetype": "text/x-python",
   "name": "python",
   "nbconvert_exporter": "python",
   "pygments_lexer": "ipython3",
   "version": "3.6.5"
  },
  "toc": {
   "base_numbering": 1,
   "nav_menu": {},
   "number_sections": true,
   "sideBar": true,
   "skip_h1_title": false,
   "title_cell": "Table of Contents",
   "title_sidebar": "Contents",
   "toc_cell": false,
   "toc_position": {},
   "toc_section_display": true,
   "toc_window_display": false
  },
  "varInspector": {
   "cols": {
    "lenName": 16,
    "lenType": 16,
    "lenVar": 40
   },
   "kernels_config": {
    "python": {
     "delete_cmd_postfix": "",
     "delete_cmd_prefix": "del ",
     "library": "var_list.py",
     "varRefreshCmd": "print(var_dic_list())"
    },
    "r": {
     "delete_cmd_postfix": ") ",
     "delete_cmd_prefix": "rm(",
     "library": "var_list.r",
     "varRefreshCmd": "cat(var_dic_list()) "
    }
   },
   "types_to_exclude": [
    "module",
    "function",
    "builtin_function_or_method",
    "instance",
    "_Feature"
   ],
   "window_display": false
  }
 },
 "nbformat": 4,
 "nbformat_minor": 4
}

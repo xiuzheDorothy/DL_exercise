{
 "cells": [
  {
   "cell_type": "markdown",
   "metadata": {},
   "source": [
    "\n",
    "- 转化为标准形式\n",
    "- 求出基本可行解\n",
    "- 判断是否为最优解\n",
    "- 如果不是最优，迭代到相邻基本可行解并再次检验\n",
    "\n",
    "单纯形法把寻优的目标集中在所有基本可行解（即可行域顶点） 中。\n",
    "\n",
    "**基本思路:**是从一个初始的基本可行解出发，寻找一条达到最优基本可行解的最佳途径。\n",
    "\n",
    "```flow\n",
    "st=>start: 初始基本可行解\n",
    "op=>operation: 沿边界找新的基本可行解\n",
    "cond=>condition: 是否最优解或无界解？\n",
    "e=>end: 结束\n",
    "\n",
    "st->op->cond\n",
    "cond(yes)->e\n",
    "cond(no)->op\n",
    "```\n",
    "## 确定初始的基本可行解\n",
    "确定初始的基本可行解等价于确定初始的可行基，一旦初始的可行基确定了，那么对应的初始基本可行解也就唯一确定.为了讨论方便，不妨假设在标准型线性规划中，系数矩阵Ａ中前m个系数列向量恰好构成一个可行基，即$A=(B|N)$，$B$为基阵，$N$为非基阵。对应的$X_B$和$X_N$分别称为基变量和非基变量。又因为$BX_B+NX_N=b$可得\n",
    "\n",
    "$$X_B=B^{-1}b-B^{-1}NX_N$$\n",
    "\n",
    "由此得基本可行解$X=(B^{-1}b,0)^T$\n",
    "## 判断是否最优\n",
    "将解代入目标函数$min:z=CX$有：\n",
    "\n",
    "$$z=CX=(C_B,C_N)(B^{-1}b,0)^T=C_BB^{-1}b$$\n",
    "\n",
    "此时构造一个基本可行解对应的检验向量$\\sigma _N=C_N-C_BB^{-1}N$，若$\\sigma _N$大于等于0，则这个基本可行解就是最优解。检验向量的各个分量称为检验数。\n",
    "\n",
    "特殊情况：\n",
    "- 若检验向量$\\sigma _N$中的一个检验数$\\sigma _{m+k}=0$，则线性规划问题**无穷多最优解**\n",
    "- 若检验向量$\\sigma _N$中的一个检验数$\\sigma _{m+k}<0$，且该检验数所对应的**非基变量的系数列向量**的全部系数都为负数或零，则线性规划问题无有界最优解。\n",
    "\n",
    "## 基本可行解的改进 ——基变换\n",
    "如果现行的基本可行解Ｘ不是最优解， 即在检验向量$\\sigma _N$存在负的检验数，则此时我们需要寻找一个新的基本可行解，具体做法是：\n",
    "- 先从检验数为负的非基变量中确定一个**换入变量**， 使它从非基变量变成基变量，\n",
    "- 再从原来的基变量中确定一个**换出变量**， 使它从基变量变成非基变量。\n",
    "\n",
    "由此可得一个新的基本可行解，由\n",
    "\n",
    "$$z=C_BB^{-1}b+(\\sigma_{m+1},\\sigma_{m+2},...,\\sigma_{n})(x_{m+1},x_{m+2},...,x_{n})^T$$\n",
    "可知， 这样的变换一定能使目标函数值有所减少。"
   ]
  },
  {
   "cell_type": "markdown",
   "metadata": {},
   "source": [
    "- 换入变量的确定要根据**最大减小原则**：即选取最小负检验数所对应的非基变量为换入变量\n",
    "- 换出变量的确定要根据**最小比值原则**：为保持解的可行性，可以按最小比值原则确定换出变量\n",
    "\n",
    "## 用初等变换求改进了的基本可行解——<font color=red>旋转运算</font>\n",
    "在原来的约束方程组左乘一个$B^{-1}$，得到：\n",
    "\n",
    "$$(i,b^{-1}N)(X_B,X_N)^T=B^{-1}b$$\n",
    "\n",
    "与原约束方程组$AX=b$通同解。\n",
    "\n",
    "且改进了的基本可行解 只是在$X'$的基变量的基础上用一个换入变量替代其中一个换出变量，其它的基变量仍然保持不变。这些基变量的系数列向量是单位矩阵$I$中的单位向量。为了求得改进的基本可行解$X'$，只需对增广矩阵：\n",
    "$$(I,B^{-1}N,B^{-1}b)$$\n",
    "施行初等行变换，将换入变量的系数列向量变换成换出变量所对\n",
    "应的单位向量即可。"
   ]
  },
  {
   "cell_type": "markdown",
   "metadata": {},
   "source": [
    "## 单纯形表\n",
    "一个一个代入是一件麻烦事，可以用单纯形表来化简运算，而且scipy中用单纯形法`simplex`求解线性规划问题时也利用的是单纯形表。\n",
    "![](https://s2.ax1x.com/2020/03/11/8ks2u9.png)"
   ]
  },
  {
   "cell_type": "code",
   "execution_count": 3,
   "metadata": {},
   "outputs": [],
   "source": [
    "from scipy import optimize as op\n",
    "import numpy as np"
   ]
  },
  {
   "cell_type": "markdown",
   "metadata": {},
   "source": [
    "```python\n",
    "if meth == 'simplex':\n",
    "    x, status, message, iteration = _linprog_simplex(\n",
    "        c, c0=c0, A=A, b=b, callback=callback,\n",
    "        postsolve_args=postsolve_args, **solver_options)\n",
    "```"
   ]
  },
  {
   "cell_type": "code",
   "execution_count": null,
   "metadata": {},
   "outputs": [],
   "source": []
  }
 ],
 "metadata": {
  "kernelspec": {
   "display_name": "Python 3",
   "language": "python",
   "name": "python3"
  },
  "language_info": {
   "codemirror_mode": {
    "name": "ipython",
    "version": 3
   },
   "file_extension": ".py",
   "mimetype": "text/x-python",
   "name": "python",
   "nbconvert_exporter": "python",
   "pygments_lexer": "ipython3",
   "version": "3.6.5"
  },
  "toc": {
   "base_numbering": 1,
   "nav_menu": {},
   "number_sections": true,
   "sideBar": true,
   "skip_h1_title": false,
   "title_cell": "Table of Contents",
   "title_sidebar": "Contents",
   "toc_cell": false,
   "toc_position": {},
   "toc_section_display": true,
   "toc_window_display": false
  },
  "varInspector": {
   "cols": {
    "lenName": 16,
    "lenType": 16,
    "lenVar": 40
   },
   "kernels_config": {
    "python": {
     "delete_cmd_postfix": "",
     "delete_cmd_prefix": "del ",
     "library": "var_list.py",
     "varRefreshCmd": "print(var_dic_list())"
    },
    "r": {
     "delete_cmd_postfix": ") ",
     "delete_cmd_prefix": "rm(",
     "library": "var_list.r",
     "varRefreshCmd": "cat(var_dic_list()) "
    }
   },
   "types_to_exclude": [
    "module",
    "function",
    "builtin_function_or_method",
    "instance",
    "_Feature"
   ],
   "window_display": false
  }
 },
 "nbformat": 4,
 "nbformat_minor": 4
}

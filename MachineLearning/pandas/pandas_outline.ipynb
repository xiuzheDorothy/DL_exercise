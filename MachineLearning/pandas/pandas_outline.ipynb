{
 "cells": [
  {
   "cell_type": "code",
   "execution_count": 21,
   "metadata": {},
   "outputs": [],
   "source": [
    "import pandas as pd\n",
    "from pandas import Series, DataFrame\n",
    "import numpy as np"
   ]
  },
  {
   "cell_type": "markdown",
   "metadata": {},
   "source": [
    "# 本文希望用提纲的方式对pandas操作做一个回顾\n",
    "pandas内含两种数据结构series与dataframe，前者可以看做一维数组，后者为一个表格型数据结构。\n",
    "- 如何提取某一个具体元素？提取某一元素就是“索引”\n",
    "    - series直接加中括号\n",
    "    - series若是自己添加索引之后，中括号内为我们给定的索引符号，也可以为系统给定的从0开始的自动索引\n",
    "    - series如果同时索引多个，就得到新的series：`seires2=seires1[[0,1,2]]`\n",
    "    - loc或者iloc方法适用于dataframe和series提取元素\n",
    "        - `data.loc['Colorado','one']`loc方法如果用给定的index会报错（如`data.loc[1,'one']`）\n",
    "        - `data.iloc`则只能用系统生成的index如`data.iloc[2,1]`\n",
    "- 如何提取符合要求的元素形成一个新的series或者frame？\n",
    "    - 可以按已知目标元素位置，直接索引index`seires2=seires1[[0,1,2]]`\n",
    "    - 可以在索引内添加运算`seires2=seires1[series<2]`\n",
    "    - 知道范围，也可以切片，不过这个切片是<font color=red>左闭右闭的</font>。\n",
    "    - 对于frame，需要用loc或者iloc并在后面附加限定条件如`data.iloc[:, :3][data.three > 5]`\n",
    "- 关于索引的忠告：最好使用`iloc`或者`loc`进行索引\n",
    "- 多个series如何合成一个dataframe？frame如何拆分为series？\n",
    "    - series1=frame\\['state'\\] \n",
    "    - loc或iloc方法也可以，不再赘述"
   ]
  },
  {
   "cell_type": "code",
   "execution_count": 26,
   "metadata": {},
   "outputs": [
    {
     "data": {
      "text/plain": [
       "0    0.0\n",
       "1    1.0\n",
       "2    2.0\n",
       "dtype: float64"
      ]
     },
     "execution_count": 26,
     "metadata": {},
     "output_type": "execute_result"
    }
   ],
   "source": []
  },
  {
   "cell_type": "code",
   "execution_count": null,
   "metadata": {},
   "outputs": [],
   "source": []
  }
 ],
 "metadata": {
  "kernelspec": {
   "display_name": "Python 3",
   "language": "python",
   "name": "python3"
  },
  "language_info": {
   "codemirror_mode": {
    "name": "ipython",
    "version": 3
   },
   "file_extension": ".py",
   "mimetype": "text/x-python",
   "name": "python",
   "nbconvert_exporter": "python",
   "pygments_lexer": "ipython3",
   "version": "3.6.5"
  },
  "toc": {
   "base_numbering": 1,
   "nav_menu": {},
   "number_sections": true,
   "sideBar": true,
   "skip_h1_title": false,
   "title_cell": "Table of Contents",
   "title_sidebar": "Contents",
   "toc_cell": false,
   "toc_position": {},
   "toc_section_display": true,
   "toc_window_display": false
  }
 },
 "nbformat": 4,
 "nbformat_minor": 4
}

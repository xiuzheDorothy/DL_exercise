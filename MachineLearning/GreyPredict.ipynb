{
 "cells": [
  {
   "cell_type": "code",
   "execution_count": 1,
   "metadata": {},
   "outputs": [],
   "source": [
    "import pandas as pd\n",
    "import numpy as np\n",
    "\n",
    "%matplotlib inline\n",
    "import matplotlib.pyplot as plt\n",
    "import matplotlib\n",
    "matplotlib.rcParams['font.sans-serif'] = ['FangSong'] # 指定默认字体\n",
    "matplotlib.rcParams['axes.unicode_minus'] = False # 解决保存图像是负号'-'显示为方块的问题"
   ]
  },
  {
   "cell_type": "code",
   "execution_count": 19,
   "metadata": {},
   "outputs": [],
   "source": [
    "class GrayForecast():\n",
    "#初始化\n",
    "    def __init__(self, data, datacolumn=None):\n",
    "        pass\n",
    "#级比校验\n",
    "    def level_check(self):\n",
    "        pass\n",
    "#GM(1,1)建模\n",
    "    def GM_11_build_model(self, forecast=5):\n",
    "        pass\n",
    "#预测\n",
    "    def forecast(self, time=5, forecast_data_len=5):\n",
    "        pass\n",
    "#打印日志\n",
    "    def log(self):\n",
    "        pass\n",
    "#重置\n",
    "    def reset(self):\n",
    "        pass\n",
    "#作图\n",
    "    def plot(self):\n",
    "        pass"
   ]
  },
  {
   "cell_type": "code",
   "execution_count": 20,
   "metadata": {},
   "outputs": [],
   "source": [
    "def __init__(self, data, datacolumn=None):\n",
    "\n",
    "    if isinstance(data, pd.core.frame.DataFrame):\n",
    "        self.data=data\n",
    "        try:\n",
    "            self.data.columns = ['数据']\n",
    "        except:\n",
    "            if not datacolumn:\n",
    "                raise Exception('您传入的dataframe不止一列')\n",
    "            else:\n",
    "                self.data = pd.DataFrame(data[datacolumn])\n",
    "                self.data.columns=['数据']\n",
    "    elif isinstance(data, pd.core.series.Series):\n",
    "        self.data = pd.DataFrame(data, columns=['数据'])\n",
    "    else:\n",
    "        self.data = pd.DataFrame(data, columns=['数据'])\n",
    "\n",
    "    self.forecast_list = self.data.copy()\n",
    "\n",
    "    if datacolumn:\n",
    "        self.datacolumn = datacolumn\n",
    "    else:\n",
    "        self.datacolumn = None\n",
    "    #save arg:\n",
    "    #        data                DataFrame    数据\n",
    "    #        forecast_list       DataFrame    预测序列\n",
    "    #        datacolumn          string       数据的含义"
   ]
  },
  {
   "cell_type": "code",
   "execution_count": 21,
   "metadata": {},
   "outputs": [],
   "source": []
  }
 ],
 "metadata": {
  "kernelspec": {
   "display_name": "Python 3",
   "language": "python",
   "name": "python3"
  },
  "language_info": {
   "codemirror_mode": {
    "name": "ipython",
    "version": 3
   },
   "file_extension": ".py",
   "mimetype": "text/x-python",
   "name": "python",
   "nbconvert_exporter": "python",
   "pygments_lexer": "ipython3",
   "version": "3.6.5"
  },
  "toc": {
   "base_numbering": 1,
   "nav_menu": {},
   "number_sections": true,
   "sideBar": true,
   "skip_h1_title": false,
   "title_cell": "Table of Contents",
   "title_sidebar": "Contents",
   "toc_cell": false,
   "toc_position": {},
   "toc_section_display": true,
   "toc_window_display": false
  }
 },
 "nbformat": 4,
 "nbformat_minor": 4
}

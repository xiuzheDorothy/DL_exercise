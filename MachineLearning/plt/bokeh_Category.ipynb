{
 "cells": [
  {
   "cell_type": "markdown",
   "metadata": {},
   "source": [
    "# Handling Categorical Data\n",
    "## Bars条形图\n",
    "### Basic\n",
    "Bokeh make it simple to create basic bar charts using the`hbar()`and `vbar()` glyphs methods."
   ]
  },
  {
   "cell_type": "code",
   "execution_count": 1,
   "metadata": {},
   "outputs": [],
   "source": [
    "fruits=['Apples','Pears', 'Nectarines', 'Plums', 'Grapes', 'Strawberries']"
   ]
  },
  {
   "cell_type": "markdown",
   "metadata": {},
   "source": [
    "```python\n",
    "p = figure(x_range=fruits, ... )\n",
    "```\n",
    "or like this:\n",
    "```python\n",
    "p = figure(x_range=FactorRange(factors=fruits), ... )\n",
    "```"
   ]
  },
  {
   "cell_type": "code",
   "execution_count": 1,
   "metadata": {},
   "outputs": [
    {
     "data": {
      "text/html": [
       "\n",
       "    <div class=\"bk-root\">\n",
       "        <a href=\"https://bokeh.org\" target=\"_blank\" class=\"bk-logo bk-logo-small bk-logo-notebook\"></a>\n",
       "        <span id=\"1001\">Loading BokehJS ...</span>\n",
       "    </div>"
      ]
     },
     "metadata": {},
     "output_type": "display_data"
    },
    {
     "data": {
      "application/javascript": [
       "\n",
       "(function(root) {\n",
       "  function now() {\n",
       "    return new Date();\n",
       "  }\n",
       "\n",
       "  var force = true;\n",
       "\n",
       "  if (typeof root._bokeh_onload_callbacks === \"undefined\" || force === true) {\n",
       "    root._bokeh_onload_callbacks = [];\n",
       "    root._bokeh_is_loading = undefined;\n",
       "  }\n",
       "\n",
       "  var JS_MIME_TYPE = 'application/javascript';\n",
       "  var HTML_MIME_TYPE = 'text/html';\n",
       "  var EXEC_MIME_TYPE = 'application/vnd.bokehjs_exec.v0+json';\n",
       "  var CLASS_NAME = 'output_bokeh rendered_html';\n",
       "\n",
       "  /**\n",
       "   * Render data to the DOM node\n",
       "   */\n",
       "  function render(props, node) {\n",
       "    var script = document.createElement(\"script\");\n",
       "    node.appendChild(script);\n",
       "  }\n",
       "\n",
       "  /**\n",
       "   * Handle when an output is cleared or removed\n",
       "   */\n",
       "  function handleClearOutput(event, handle) {\n",
       "    var cell = handle.cell;\n",
       "\n",
       "    var id = cell.output_area._bokeh_element_id;\n",
       "    var server_id = cell.output_area._bokeh_server_id;\n",
       "    // Clean up Bokeh references\n",
       "    if (id != null && id in Bokeh.index) {\n",
       "      Bokeh.index[id].model.document.clear();\n",
       "      delete Bokeh.index[id];\n",
       "    }\n",
       "\n",
       "    if (server_id !== undefined) {\n",
       "      // Clean up Bokeh references\n",
       "      var cmd = \"from bokeh.io.state import curstate; print(curstate().uuid_to_server['\" + server_id + \"'].get_sessions()[0].document.roots[0]._id)\";\n",
       "      cell.notebook.kernel.execute(cmd, {\n",
       "        iopub: {\n",
       "          output: function(msg) {\n",
       "            var id = msg.content.text.trim();\n",
       "            if (id in Bokeh.index) {\n",
       "              Bokeh.index[id].model.document.clear();\n",
       "              delete Bokeh.index[id];\n",
       "            }\n",
       "          }\n",
       "        }\n",
       "      });\n",
       "      // Destroy server and session\n",
       "      var cmd = \"import bokeh.io.notebook as ion; ion.destroy_server('\" + server_id + \"')\";\n",
       "      cell.notebook.kernel.execute(cmd);\n",
       "    }\n",
       "  }\n",
       "\n",
       "  /**\n",
       "   * Handle when a new output is added\n",
       "   */\n",
       "  function handleAddOutput(event, handle) {\n",
       "    var output_area = handle.output_area;\n",
       "    var output = handle.output;\n",
       "\n",
       "    // limit handleAddOutput to display_data with EXEC_MIME_TYPE content only\n",
       "    if ((output.output_type != \"display_data\") || (!output.data.hasOwnProperty(EXEC_MIME_TYPE))) {\n",
       "      return\n",
       "    }\n",
       "\n",
       "    var toinsert = output_area.element.find(\".\" + CLASS_NAME.split(' ')[0]);\n",
       "\n",
       "    if (output.metadata[EXEC_MIME_TYPE][\"id\"] !== undefined) {\n",
       "      toinsert[toinsert.length - 1].firstChild.textContent = output.data[JS_MIME_TYPE];\n",
       "      // store reference to embed id on output_area\n",
       "      output_area._bokeh_element_id = output.metadata[EXEC_MIME_TYPE][\"id\"];\n",
       "    }\n",
       "    if (output.metadata[EXEC_MIME_TYPE][\"server_id\"] !== undefined) {\n",
       "      var bk_div = document.createElement(\"div\");\n",
       "      bk_div.innerHTML = output.data[HTML_MIME_TYPE];\n",
       "      var script_attrs = bk_div.children[0].attributes;\n",
       "      for (var i = 0; i < script_attrs.length; i++) {\n",
       "        toinsert[toinsert.length - 1].firstChild.setAttribute(script_attrs[i].name, script_attrs[i].value);\n",
       "      }\n",
       "      // store reference to server id on output_area\n",
       "      output_area._bokeh_server_id = output.metadata[EXEC_MIME_TYPE][\"server_id\"];\n",
       "    }\n",
       "  }\n",
       "\n",
       "  function register_renderer(events, OutputArea) {\n",
       "\n",
       "    function append_mime(data, metadata, element) {\n",
       "      // create a DOM node to render to\n",
       "      var toinsert = this.create_output_subarea(\n",
       "        metadata,\n",
       "        CLASS_NAME,\n",
       "        EXEC_MIME_TYPE\n",
       "      );\n",
       "      this.keyboard_manager.register_events(toinsert);\n",
       "      // Render to node\n",
       "      var props = {data: data, metadata: metadata[EXEC_MIME_TYPE]};\n",
       "      render(props, toinsert[toinsert.length - 1]);\n",
       "      element.append(toinsert);\n",
       "      return toinsert\n",
       "    }\n",
       "\n",
       "    /* Handle when an output is cleared or removed */\n",
       "    events.on('clear_output.CodeCell', handleClearOutput);\n",
       "    events.on('delete.Cell', handleClearOutput);\n",
       "\n",
       "    /* Handle when a new output is added */\n",
       "    events.on('output_added.OutputArea', handleAddOutput);\n",
       "\n",
       "    /**\n",
       "     * Register the mime type and append_mime function with output_area\n",
       "     */\n",
       "    OutputArea.prototype.register_mime_type(EXEC_MIME_TYPE, append_mime, {\n",
       "      /* Is output safe? */\n",
       "      safe: true,\n",
       "      /* Index of renderer in `output_area.display_order` */\n",
       "      index: 0\n",
       "    });\n",
       "  }\n",
       "\n",
       "  // register the mime type if in Jupyter Notebook environment and previously unregistered\n",
       "  if (root.Jupyter !== undefined) {\n",
       "    var events = require('base/js/events');\n",
       "    var OutputArea = require('notebook/js/outputarea').OutputArea;\n",
       "\n",
       "    if (OutputArea.prototype.mime_types().indexOf(EXEC_MIME_TYPE) == -1) {\n",
       "      register_renderer(events, OutputArea);\n",
       "    }\n",
       "  }\n",
       "\n",
       "  \n",
       "  if (typeof (root._bokeh_timeout) === \"undefined\" || force === true) {\n",
       "    root._bokeh_timeout = Date.now() + 5000;\n",
       "    root._bokeh_failed_load = false;\n",
       "  }\n",
       "\n",
       "  var NB_LOAD_WARNING = {'data': {'text/html':\n",
       "     \"<div style='background-color: #fdd'>\\n\"+\n",
       "     \"<p>\\n\"+\n",
       "     \"BokehJS does not appear to have successfully loaded. If loading BokehJS from CDN, this \\n\"+\n",
       "     \"may be due to a slow or bad network connection. Possible fixes:\\n\"+\n",
       "     \"</p>\\n\"+\n",
       "     \"<ul>\\n\"+\n",
       "     \"<li>re-rerun `output_notebook()` to attempt to load from CDN again, or</li>\\n\"+\n",
       "     \"<li>use INLINE resources instead, as so:</li>\\n\"+\n",
       "     \"</ul>\\n\"+\n",
       "     \"<code>\\n\"+\n",
       "     \"from bokeh.resources import INLINE\\n\"+\n",
       "     \"output_notebook(resources=INLINE)\\n\"+\n",
       "     \"</code>\\n\"+\n",
       "     \"</div>\"}};\n",
       "\n",
       "  function display_loaded() {\n",
       "    var el = document.getElementById(\"1001\");\n",
       "    if (el != null) {\n",
       "      el.textContent = \"BokehJS is loading...\";\n",
       "    }\n",
       "    if (root.Bokeh !== undefined) {\n",
       "      if (el != null) {\n",
       "        el.textContent = \"BokehJS \" + root.Bokeh.version + \" successfully loaded.\";\n",
       "      }\n",
       "    } else if (Date.now() < root._bokeh_timeout) {\n",
       "      setTimeout(display_loaded, 100)\n",
       "    }\n",
       "  }\n",
       "\n",
       "\n",
       "  function run_callbacks() {\n",
       "    try {\n",
       "      root._bokeh_onload_callbacks.forEach(function(callback) {\n",
       "        if (callback != null)\n",
       "          callback();\n",
       "      });\n",
       "    } finally {\n",
       "      delete root._bokeh_onload_callbacks\n",
       "    }\n",
       "    console.debug(\"Bokeh: all callbacks have finished\");\n",
       "  }\n",
       "\n",
       "  function load_libs(css_urls, js_urls, callback) {\n",
       "    if (css_urls == null) css_urls = [];\n",
       "    if (js_urls == null) js_urls = [];\n",
       "\n",
       "    root._bokeh_onload_callbacks.push(callback);\n",
       "    if (root._bokeh_is_loading > 0) {\n",
       "      console.debug(\"Bokeh: BokehJS is being loaded, scheduling callback at\", now());\n",
       "      return null;\n",
       "    }\n",
       "    if (js_urls == null || js_urls.length === 0) {\n",
       "      run_callbacks();\n",
       "      return null;\n",
       "    }\n",
       "    console.debug(\"Bokeh: BokehJS not loaded, scheduling load and callback at\", now());\n",
       "    root._bokeh_is_loading = css_urls.length + js_urls.length;\n",
       "\n",
       "    function on_load() {\n",
       "      root._bokeh_is_loading--;\n",
       "      if (root._bokeh_is_loading === 0) {\n",
       "        console.debug(\"Bokeh: all BokehJS libraries/stylesheets loaded\");\n",
       "        run_callbacks()\n",
       "      }\n",
       "    }\n",
       "\n",
       "    function on_error() {\n",
       "      console.error(\"failed to load \" + url);\n",
       "    }\n",
       "\n",
       "    for (var i = 0; i < css_urls.length; i++) {\n",
       "      var url = css_urls[i];\n",
       "      const element = document.createElement(\"link\");\n",
       "      element.onload = on_load;\n",
       "      element.onerror = on_error;\n",
       "      element.rel = \"stylesheet\";\n",
       "      element.type = \"text/css\";\n",
       "      element.href = url;\n",
       "      console.debug(\"Bokeh: injecting link tag for BokehJS stylesheet: \", url);\n",
       "      document.body.appendChild(element);\n",
       "    }\n",
       "\n",
       "    for (var i = 0; i < js_urls.length; i++) {\n",
       "      var url = js_urls[i];\n",
       "      var element = document.createElement('script');\n",
       "      element.onload = on_load;\n",
       "      element.onerror = on_error;\n",
       "      element.async = false;\n",
       "      element.src = url;\n",
       "      console.debug(\"Bokeh: injecting script tag for BokehJS library: \", url);\n",
       "      document.head.appendChild(element);\n",
       "    }\n",
       "  };var element = document.getElementById(\"1001\");\n",
       "  if (element == null) {\n",
       "    console.error(\"Bokeh: ERROR: autoload.js configured with elementid '1001' but no matching script tag was found. \")\n",
       "    return false;\n",
       "  }\n",
       "\n",
       "  function inject_raw_css(css) {\n",
       "    const element = document.createElement(\"style\");\n",
       "    element.appendChild(document.createTextNode(css));\n",
       "    document.body.appendChild(element);\n",
       "  }\n",
       "\n",
       "  \n",
       "  var js_urls = [\"https://cdn.pydata.org/bokeh/release/bokeh-1.4.0.min.js\", \"https://cdn.pydata.org/bokeh/release/bokeh-widgets-1.4.0.min.js\", \"https://cdn.pydata.org/bokeh/release/bokeh-tables-1.4.0.min.js\", \"https://cdn.pydata.org/bokeh/release/bokeh-gl-1.4.0.min.js\"];\n",
       "  var css_urls = [];\n",
       "  \n",
       "\n",
       "  var inline_js = [\n",
       "    function(Bokeh) {\n",
       "      Bokeh.set_log_level(\"info\");\n",
       "    },\n",
       "    function(Bokeh) {\n",
       "    \n",
       "    \n",
       "    }\n",
       "  ];\n",
       "\n",
       "  function run_inline_js() {\n",
       "    \n",
       "    if (root.Bokeh !== undefined || force === true) {\n",
       "      \n",
       "    for (var i = 0; i < inline_js.length; i++) {\n",
       "      inline_js[i].call(root, root.Bokeh);\n",
       "    }\n",
       "    if (force === true) {\n",
       "        display_loaded();\n",
       "      }} else if (Date.now() < root._bokeh_timeout) {\n",
       "      setTimeout(run_inline_js, 100);\n",
       "    } else if (!root._bokeh_failed_load) {\n",
       "      console.log(\"Bokeh: BokehJS failed to load within specified timeout.\");\n",
       "      root._bokeh_failed_load = true;\n",
       "    } else if (force !== true) {\n",
       "      var cell = $(document.getElementById(\"1001\")).parents('.cell').data().cell;\n",
       "      cell.output_area.append_execute_result(NB_LOAD_WARNING)\n",
       "    }\n",
       "\n",
       "  }\n",
       "\n",
       "  if (root._bokeh_is_loading === 0) {\n",
       "    console.debug(\"Bokeh: BokehJS loaded, going straight to plotting\");\n",
       "    run_inline_js();\n",
       "  } else {\n",
       "    load_libs(css_urls, js_urls, function() {\n",
       "      console.debug(\"Bokeh: BokehJS plotting callback run at\", now());\n",
       "      run_inline_js();\n",
       "    });\n",
       "  }\n",
       "}(window));"
      ],
      "application/vnd.bokehjs_load.v0+json": "\n(function(root) {\n  function now() {\n    return new Date();\n  }\n\n  var force = true;\n\n  if (typeof root._bokeh_onload_callbacks === \"undefined\" || force === true) {\n    root._bokeh_onload_callbacks = [];\n    root._bokeh_is_loading = undefined;\n  }\n\n  \n\n  \n  if (typeof (root._bokeh_timeout) === \"undefined\" || force === true) {\n    root._bokeh_timeout = Date.now() + 5000;\n    root._bokeh_failed_load = false;\n  }\n\n  var NB_LOAD_WARNING = {'data': {'text/html':\n     \"<div style='background-color: #fdd'>\\n\"+\n     \"<p>\\n\"+\n     \"BokehJS does not appear to have successfully loaded. If loading BokehJS from CDN, this \\n\"+\n     \"may be due to a slow or bad network connection. Possible fixes:\\n\"+\n     \"</p>\\n\"+\n     \"<ul>\\n\"+\n     \"<li>re-rerun `output_notebook()` to attempt to load from CDN again, or</li>\\n\"+\n     \"<li>use INLINE resources instead, as so:</li>\\n\"+\n     \"</ul>\\n\"+\n     \"<code>\\n\"+\n     \"from bokeh.resources import INLINE\\n\"+\n     \"output_notebook(resources=INLINE)\\n\"+\n     \"</code>\\n\"+\n     \"</div>\"}};\n\n  function display_loaded() {\n    var el = document.getElementById(\"1001\");\n    if (el != null) {\n      el.textContent = \"BokehJS is loading...\";\n    }\n    if (root.Bokeh !== undefined) {\n      if (el != null) {\n        el.textContent = \"BokehJS \" + root.Bokeh.version + \" successfully loaded.\";\n      }\n    } else if (Date.now() < root._bokeh_timeout) {\n      setTimeout(display_loaded, 100)\n    }\n  }\n\n\n  function run_callbacks() {\n    try {\n      root._bokeh_onload_callbacks.forEach(function(callback) {\n        if (callback != null)\n          callback();\n      });\n    } finally {\n      delete root._bokeh_onload_callbacks\n    }\n    console.debug(\"Bokeh: all callbacks have finished\");\n  }\n\n  function load_libs(css_urls, js_urls, callback) {\n    if (css_urls == null) css_urls = [];\n    if (js_urls == null) js_urls = [];\n\n    root._bokeh_onload_callbacks.push(callback);\n    if (root._bokeh_is_loading > 0) {\n      console.debug(\"Bokeh: BokehJS is being loaded, scheduling callback at\", now());\n      return null;\n    }\n    if (js_urls == null || js_urls.length === 0) {\n      run_callbacks();\n      return null;\n    }\n    console.debug(\"Bokeh: BokehJS not loaded, scheduling load and callback at\", now());\n    root._bokeh_is_loading = css_urls.length + js_urls.length;\n\n    function on_load() {\n      root._bokeh_is_loading--;\n      if (root._bokeh_is_loading === 0) {\n        console.debug(\"Bokeh: all BokehJS libraries/stylesheets loaded\");\n        run_callbacks()\n      }\n    }\n\n    function on_error() {\n      console.error(\"failed to load \" + url);\n    }\n\n    for (var i = 0; i < css_urls.length; i++) {\n      var url = css_urls[i];\n      const element = document.createElement(\"link\");\n      element.onload = on_load;\n      element.onerror = on_error;\n      element.rel = \"stylesheet\";\n      element.type = \"text/css\";\n      element.href = url;\n      console.debug(\"Bokeh: injecting link tag for BokehJS stylesheet: \", url);\n      document.body.appendChild(element);\n    }\n\n    for (var i = 0; i < js_urls.length; i++) {\n      var url = js_urls[i];\n      var element = document.createElement('script');\n      element.onload = on_load;\n      element.onerror = on_error;\n      element.async = false;\n      element.src = url;\n      console.debug(\"Bokeh: injecting script tag for BokehJS library: \", url);\n      document.head.appendChild(element);\n    }\n  };var element = document.getElementById(\"1001\");\n  if (element == null) {\n    console.error(\"Bokeh: ERROR: autoload.js configured with elementid '1001' but no matching script tag was found. \")\n    return false;\n  }\n\n  function inject_raw_css(css) {\n    const element = document.createElement(\"style\");\n    element.appendChild(document.createTextNode(css));\n    document.body.appendChild(element);\n  }\n\n  \n  var js_urls = [\"https://cdn.pydata.org/bokeh/release/bokeh-1.4.0.min.js\", \"https://cdn.pydata.org/bokeh/release/bokeh-widgets-1.4.0.min.js\", \"https://cdn.pydata.org/bokeh/release/bokeh-tables-1.4.0.min.js\", \"https://cdn.pydata.org/bokeh/release/bokeh-gl-1.4.0.min.js\"];\n  var css_urls = [];\n  \n\n  var inline_js = [\n    function(Bokeh) {\n      Bokeh.set_log_level(\"info\");\n    },\n    function(Bokeh) {\n    \n    \n    }\n  ];\n\n  function run_inline_js() {\n    \n    if (root.Bokeh !== undefined || force === true) {\n      \n    for (var i = 0; i < inline_js.length; i++) {\n      inline_js[i].call(root, root.Bokeh);\n    }\n    if (force === true) {\n        display_loaded();\n      }} else if (Date.now() < root._bokeh_timeout) {\n      setTimeout(run_inline_js, 100);\n    } else if (!root._bokeh_failed_load) {\n      console.log(\"Bokeh: BokehJS failed to load within specified timeout.\");\n      root._bokeh_failed_load = true;\n    } else if (force !== true) {\n      var cell = $(document.getElementById(\"1001\")).parents('.cell').data().cell;\n      cell.output_area.append_execute_result(NB_LOAD_WARNING)\n    }\n\n  }\n\n  if (root._bokeh_is_loading === 0) {\n    console.debug(\"Bokeh: BokehJS loaded, going straight to plotting\");\n    run_inline_js();\n  } else {\n    load_libs(css_urls, js_urls, function() {\n      console.debug(\"Bokeh: BokehJS plotting callback run at\", now());\n      run_inline_js();\n    });\n  }\n}(window));"
     },
     "metadata": {},
     "output_type": "display_data"
    },
    {
     "data": {
      "text/html": [
       "\n",
       "\n",
       "\n",
       "\n",
       "\n",
       "\n",
       "  <div class=\"bk-root\" id=\"7b4c2072-2d13-4660-b0d9-9418e3990214\" data-root-id=\"1003\"></div>\n"
      ]
     },
     "metadata": {},
     "output_type": "display_data"
    },
    {
     "data": {
      "application/javascript": [
       "(function(root) {\n",
       "  function embed_document(root) {\n",
       "    \n",
       "  var docs_json = {\"c2cc3424-a966-423e-b89b-d051c6a7e1cb\":{\"roots\":{\"references\":[{\"attributes\":{\"below\":[{\"id\":\"1013\",\"type\":\"CategoricalAxis\"}],\"center\":[{\"id\":\"1016\",\"type\":\"Grid\"},{\"id\":\"1021\",\"type\":\"Grid\"}],\"left\":[{\"id\":\"1017\",\"type\":\"LinearAxis\"}],\"plot_height\":250,\"renderers\":[{\"id\":\"1026\",\"type\":\"GlyphRenderer\"}],\"title\":{\"id\":\"1004\",\"type\":\"Title\"},\"toolbar\":{\"id\":\"1022\",\"type\":\"Toolbar\"},\"toolbar_location\":null,\"x_range\":{\"id\":\"1002\",\"type\":\"FactorRange\"},\"x_scale\":{\"id\":\"1009\",\"type\":\"CategoricalScale\"},\"y_range\":{\"id\":\"1007\",\"type\":\"DataRange1d\"},\"y_scale\":{\"id\":\"1011\",\"type\":\"LinearScale\"}},\"id\":\"1003\",\"subtype\":\"Figure\",\"type\":\"Plot\"},{\"attributes\":{\"grid_line_color\":null,\"ticker\":{\"id\":\"1014\",\"type\":\"CategoricalTicker\"}},\"id\":\"1016\",\"type\":\"Grid\"},{\"attributes\":{\"formatter\":{\"id\":\"1032\",\"type\":\"BasicTickFormatter\"},\"ticker\":{\"id\":\"1018\",\"type\":\"BasicTicker\"}},\"id\":\"1017\",\"type\":\"LinearAxis\"},{\"attributes\":{},\"id\":\"1018\",\"type\":\"BasicTicker\"},{\"attributes\":{\"dimension\":1,\"ticker\":{\"id\":\"1018\",\"type\":\"BasicTicker\"}},\"id\":\"1021\",\"type\":\"Grid\"},{\"attributes\":{\"source\":{\"id\":\"1023\",\"type\":\"ColumnDataSource\"}},\"id\":\"1027\",\"type\":\"CDSView\"},{\"attributes\":{\"active_drag\":\"auto\",\"active_inspect\":\"auto\",\"active_multi\":null,\"active_scroll\":\"auto\",\"active_tap\":\"auto\"},\"id\":\"1022\",\"type\":\"Toolbar\"},{\"attributes\":{},\"id\":\"1030\",\"type\":\"CategoricalTickFormatter\"},{\"attributes\":{\"callback\":null,\"data\":{\"top\":[5,3,4,2,4,6],\"x\":[\"Apples\",\"Pears\",\"Nectarines\",\"Plums\",\"Grapes\",\"Strawberries\"]},\"selected\":{\"id\":\"1033\",\"type\":\"Selection\"},\"selection_policy\":{\"id\":\"1034\",\"type\":\"UnionRenderers\"}},\"id\":\"1023\",\"type\":\"ColumnDataSource\"},{\"attributes\":{\"fill_alpha\":{\"value\":0.1},\"fill_color\":{\"value\":\"#1f77b4\"},\"line_alpha\":{\"value\":0.1},\"line_color\":{\"value\":\"#1f77b4\"},\"top\":{\"field\":\"top\"},\"width\":{\"value\":0.9},\"x\":{\"field\":\"x\"}},\"id\":\"1025\",\"type\":\"VBar\"},{\"attributes\":{\"callback\":null,\"factors\":[\"Apples\",\"Pears\",\"Nectarines\",\"Plums\",\"Grapes\",\"Strawberries\"]},\"id\":\"1002\",\"type\":\"FactorRange\"},{\"attributes\":{},\"id\":\"1009\",\"type\":\"CategoricalScale\"},{\"attributes\":{\"text\":\"Fruit Counts\"},\"id\":\"1004\",\"type\":\"Title\"},{\"attributes\":{},\"id\":\"1032\",\"type\":\"BasicTickFormatter\"},{\"attributes\":{\"data_source\":{\"id\":\"1023\",\"type\":\"ColumnDataSource\"},\"glyph\":{\"id\":\"1024\",\"type\":\"VBar\"},\"hover_glyph\":null,\"muted_glyph\":null,\"nonselection_glyph\":{\"id\":\"1025\",\"type\":\"VBar\"},\"selection_glyph\":null,\"view\":{\"id\":\"1027\",\"type\":\"CDSView\"}},\"id\":\"1026\",\"type\":\"GlyphRenderer\"},{\"attributes\":{},\"id\":\"1033\",\"type\":\"Selection\"},{\"attributes\":{\"fill_color\":{\"value\":\"#1f77b4\"},\"line_color\":{\"value\":\"#1f77b4\"},\"top\":{\"field\":\"top\"},\"width\":{\"value\":0.9},\"x\":{\"field\":\"x\"}},\"id\":\"1024\",\"type\":\"VBar\"},{\"attributes\":{},\"id\":\"1034\",\"type\":\"UnionRenderers\"},{\"attributes\":{\"callback\":null,\"start\":0},\"id\":\"1007\",\"type\":\"DataRange1d\"},{\"attributes\":{},\"id\":\"1011\",\"type\":\"LinearScale\"},{\"attributes\":{\"formatter\":{\"id\":\"1030\",\"type\":\"CategoricalTickFormatter\"},\"ticker\":{\"id\":\"1014\",\"type\":\"CategoricalTicker\"}},\"id\":\"1013\",\"type\":\"CategoricalAxis\"},{\"attributes\":{},\"id\":\"1014\",\"type\":\"CategoricalTicker\"}],\"root_ids\":[\"1003\"]},\"title\":\"Bokeh Application\",\"version\":\"1.4.0\"}};\n",
       "  var render_items = [{\"docid\":\"c2cc3424-a966-423e-b89b-d051c6a7e1cb\",\"roots\":{\"1003\":\"7b4c2072-2d13-4660-b0d9-9418e3990214\"}}];\n",
       "  root.Bokeh.embed.embed_items_notebook(docs_json, render_items);\n",
       "\n",
       "  }\n",
       "  if (root.Bokeh !== undefined) {\n",
       "    embed_document(root);\n",
       "  } else {\n",
       "    var attempts = 0;\n",
       "    var timer = setInterval(function(root) {\n",
       "      if (root.Bokeh !== undefined) {\n",
       "        clearInterval(timer);\n",
       "        embed_document(root);\n",
       "      } else {\n",
       "        attempts++;\n",
       "        if (attempts > 100) {\n",
       "          clearInterval(timer);\n",
       "          console.log(\"Bokeh: ERROR: Unable to run BokehJS code because BokehJS library is missing\");\n",
       "        }\n",
       "      }\n",
       "    }, 10, root)\n",
       "  }\n",
       "})(window);"
      ],
      "application/vnd.bokehjs_exec.v0+json": ""
     },
     "metadata": {
      "application/vnd.bokehjs_exec.v0+json": {
       "id": "1003"
      }
     },
     "output_type": "display_data"
    }
   ],
   "source": [
    "from bokeh.io import output_notebook, show\n",
    "from bokeh.plotting import figure\n",
    "from bokeh.models import FactorRange\n",
    "\n",
    "output_notebook()\n",
    "\n",
    "\n",
    "fruits = ['Apples', 'Pears', 'Nectarines', 'Plums', 'Grapes', 'Strawberries']\n",
    "counts = [5, 3, 4, 2, 4, 6]\n",
    "\n",
    "p = figure(x_range=FactorRange(*fruits), plot_height=250, title=\"Fruit Counts\",\n",
    "           toolbar_location=None, tools=\"\")\n",
    "\n",
    "p.vbar(x=fruits, top=counts, width=0.9)\n",
    "\n",
    "p.xgrid.grid_line_color = None\n",
    "p.y_range.start = 0\n",
    "\n",
    "show(p)"
   ]
  },
  {
   "cell_type": "markdown",
   "metadata": {},
   "source": [
    "### Sorted排序"
   ]
  },
  {
   "cell_type": "code",
   "execution_count": 10,
   "metadata": {},
   "outputs": [
    {
     "data": {
      "text/html": [
       "\n",
       "\n",
       "\n",
       "\n",
       "\n",
       "\n",
       "  <div class=\"bk-root\" id=\"a396ff52-7918-449a-b780-22c885b73e8c\" data-root-id=\"1790\"></div>\n"
      ]
     },
     "metadata": {},
     "output_type": "display_data"
    },
    {
     "data": {
      "application/javascript": [
       "(function(root) {\n",
       "  function embed_document(root) {\n",
       "    \n",
       "  var docs_json = {\"d03973a1-a89b-4a35-b347-60f8412b436d\":{\"roots\":{\"references\":[{\"attributes\":{\"below\":[{\"id\":\"1801\",\"type\":\"CategoricalAxis\"}],\"center\":[{\"id\":\"1804\",\"type\":\"Grid\"},{\"id\":\"1809\",\"type\":\"Grid\"}],\"left\":[{\"id\":\"1805\",\"type\":\"LinearAxis\"}],\"plot_height\":350,\"renderers\":[{\"id\":\"1814\",\"type\":\"GlyphRenderer\"}],\"title\":{\"id\":\"1791\",\"type\":\"Title\"},\"toolbar\":{\"id\":\"1810\",\"type\":\"Toolbar\"},\"toolbar_location\":null,\"x_range\":{\"id\":\"1793\",\"type\":\"FactorRange\"},\"x_scale\":{\"id\":\"1797\",\"type\":\"CategoricalScale\"},\"y_range\":{\"id\":\"1795\",\"type\":\"DataRange1d\"},\"y_scale\":{\"id\":\"1799\",\"type\":\"LinearScale\"}},\"id\":\"1790\",\"subtype\":\"Figure\",\"type\":\"Plot\"},{\"attributes\":{\"active_drag\":\"auto\",\"active_inspect\":\"auto\",\"active_multi\":null,\"active_scroll\":\"auto\",\"active_tap\":\"auto\"},\"id\":\"1810\",\"type\":\"Toolbar\"},{\"attributes\":{\"formatter\":{\"id\":\"1866\",\"type\":\"CategoricalTickFormatter\"},\"ticker\":{\"id\":\"1802\",\"type\":\"CategoricalTicker\"}},\"id\":\"1801\",\"type\":\"CategoricalAxis\"},{\"attributes\":{\"data_source\":{\"id\":\"1811\",\"type\":\"ColumnDataSource\"},\"glyph\":{\"id\":\"1812\",\"type\":\"VBar\"},\"hover_glyph\":null,\"muted_glyph\":null,\"nonselection_glyph\":{\"id\":\"1813\",\"type\":\"VBar\"},\"selection_glyph\":null,\"view\":{\"id\":\"1815\",\"type\":\"CDSView\"}},\"id\":\"1814\",\"type\":\"GlyphRenderer\"},{\"attributes\":{\"fill_alpha\":{\"value\":0.1},\"fill_color\":{\"value\":\"#1f77b4\"},\"line_alpha\":{\"value\":0.1},\"line_color\":{\"value\":\"#1f77b4\"},\"top\":{\"field\":\"top\"},\"width\":{\"value\":0.9},\"x\":{\"field\":\"x\"}},\"id\":\"1813\",\"type\":\"VBar\"},{\"attributes\":{},\"id\":\"1868\",\"type\":\"BasicTickFormatter\"},{\"attributes\":{},\"id\":\"1866\",\"type\":\"CategoricalTickFormatter\"},{\"attributes\":{},\"id\":\"1870\",\"type\":\"UnionRenderers\"},{\"attributes\":{\"grid_line_color\":null,\"ticker\":{\"id\":\"1802\",\"type\":\"CategoricalTicker\"}},\"id\":\"1804\",\"type\":\"Grid\"},{\"attributes\":{\"fill_color\":{\"value\":\"#1f77b4\"},\"line_color\":{\"value\":\"#1f77b4\"},\"top\":{\"field\":\"top\"},\"width\":{\"value\":0.9},\"x\":{\"field\":\"x\"}},\"id\":\"1812\",\"type\":\"VBar\"},{\"attributes\":{},\"id\":\"1871\",\"type\":\"Selection\"},{\"attributes\":{\"callback\":null,\"data\":{\"top\":[5,3,4,2,4,6],\"x\":[\"Apples\",\"Pears\",\"Nectarines\",\"Plums\",\"Grapes\",\"Strawberries\"]},\"selected\":{\"id\":\"1871\",\"type\":\"Selection\"},\"selection_policy\":{\"id\":\"1870\",\"type\":\"UnionRenderers\"}},\"id\":\"1811\",\"type\":\"ColumnDataSource\"},{\"attributes\":{\"dimension\":1,\"ticker\":{\"id\":\"1806\",\"type\":\"BasicTicker\"}},\"id\":\"1809\",\"type\":\"Grid\"},{\"attributes\":{\"text\":\"Fruit Counts\"},\"id\":\"1791\",\"type\":\"Title\"},{\"attributes\":{},\"id\":\"1806\",\"type\":\"BasicTicker\"},{\"attributes\":{\"callback\":null,\"start\":0},\"id\":\"1795\",\"type\":\"DataRange1d\"},{\"attributes\":{},\"id\":\"1799\",\"type\":\"LinearScale\"},{\"attributes\":{\"callback\":null,\"factors\":[\"Plums\",\"Pears\",\"Nectarines\",\"Grapes\",\"Apples\",\"Strawberries\"]},\"id\":\"1793\",\"type\":\"FactorRange\"},{\"attributes\":{},\"id\":\"1797\",\"type\":\"CategoricalScale\"},{\"attributes\":{\"source\":{\"id\":\"1811\",\"type\":\"ColumnDataSource\"}},\"id\":\"1815\",\"type\":\"CDSView\"},{\"attributes\":{\"formatter\":{\"id\":\"1868\",\"type\":\"BasicTickFormatter\"},\"ticker\":{\"id\":\"1806\",\"type\":\"BasicTicker\"}},\"id\":\"1805\",\"type\":\"LinearAxis\"},{\"attributes\":{},\"id\":\"1802\",\"type\":\"CategoricalTicker\"}],\"root_ids\":[\"1790\"]},\"title\":\"Bokeh Application\",\"version\":\"1.4.0\"}};\n",
       "  var render_items = [{\"docid\":\"d03973a1-a89b-4a35-b347-60f8412b436d\",\"roots\":{\"1790\":\"a396ff52-7918-449a-b780-22c885b73e8c\"}}];\n",
       "  root.Bokeh.embed.embed_items_notebook(docs_json, render_items);\n",
       "\n",
       "  }\n",
       "  if (root.Bokeh !== undefined) {\n",
       "    embed_document(root);\n",
       "  } else {\n",
       "    var attempts = 0;\n",
       "    var timer = setInterval(function(root) {\n",
       "      if (root.Bokeh !== undefined) {\n",
       "        clearInterval(timer);\n",
       "        embed_document(root);\n",
       "      } else {\n",
       "        attempts++;\n",
       "        if (attempts > 100) {\n",
       "          clearInterval(timer);\n",
       "          console.log(\"Bokeh: ERROR: Unable to run BokehJS code because BokehJS library is missing\");\n",
       "        }\n",
       "      }\n",
       "    }, 10, root)\n",
       "  }\n",
       "})(window);"
      ],
      "application/vnd.bokehjs_exec.v0+json": ""
     },
     "metadata": {
      "application/vnd.bokehjs_exec.v0+json": {
       "id": "1790"
      }
     },
     "output_type": "display_data"
    }
   ],
   "source": [
    "fruits = ['Apples', 'Pears', 'Nectarines', 'Plums', 'Grapes', 'Strawberries']\n",
    "counts = [5, 3, 4, 2, 4, 6]\n",
    "\n",
    "# sorting the bars means sorting the range factors\n",
    "sorted_fruits = sorted(fruits, key=lambda x: counts[fruits.index(x)])\n",
    "\n",
    "p = figure(x_range=sorted_fruits, plot_height=350, title=\"Fruit Counts\",\n",
    "           toolbar_location=None, tools=\"\")\n",
    "\n",
    "p.vbar(x=fruits, top=counts, width=0.9)\n",
    "\n",
    "p.xgrid.grid_line_color = None\n",
    "p.y_range.start = 0\n",
    "\n",
    "show(p)"
   ]
  },
  {
   "cell_type": "markdown",
   "metadata": {},
   "source": [
    "## Filled条状图填充\n",
    "### Colors\n",
    "\n",
    "第一种方式是直接将颜色与内容一一对应，就像下面创建一个字典直接在dict后面导入color，再在`vabr()`里显示颜色"
   ]
  },
  {
   "cell_type": "code",
   "execution_count": 21,
   "metadata": {},
   "outputs": [
    {
     "data": {
      "text/html": [
       "\n",
       "\n",
       "\n",
       "\n",
       "\n",
       "\n",
       "  <div class=\"bk-root\" id=\"a6e43c2b-4f81-4b4b-8e19-f89a74f68962\" data-root-id=\"2804\"></div>\n"
      ]
     },
     "metadata": {},
     "output_type": "display_data"
    },
    {
     "data": {
      "application/javascript": [
       "(function(root) {\n",
       "  function embed_document(root) {\n",
       "    \n",
       "  var docs_json = {\"f72e8e6a-2c83-442f-904e-c361f686f4d5\":{\"roots\":{\"references\":[{\"attributes\":{\"below\":[{\"id\":\"2815\",\"type\":\"CategoricalAxis\"}],\"center\":[{\"id\":\"2818\",\"type\":\"Grid\"},{\"id\":\"2823\",\"type\":\"Grid\"},{\"id\":\"2835\",\"type\":\"Legend\"}],\"left\":[{\"id\":\"2819\",\"type\":\"LinearAxis\"}],\"plot_height\":250,\"renderers\":[{\"id\":\"2828\",\"type\":\"GlyphRenderer\"}],\"title\":{\"id\":\"2805\",\"type\":\"Title\"},\"toolbar\":{\"id\":\"2824\",\"type\":\"Toolbar\"},\"toolbar_location\":null,\"x_range\":{\"id\":\"2807\",\"type\":\"FactorRange\"},\"x_scale\":{\"id\":\"2811\",\"type\":\"CategoricalScale\"},\"y_range\":{\"id\":\"2809\",\"type\":\"Range1d\"},\"y_scale\":{\"id\":\"2813\",\"type\":\"LinearScale\"}},\"id\":\"2804\",\"subtype\":\"Figure\",\"type\":\"Plot\"},{\"attributes\":{\"fill_alpha\":{\"value\":0.1},\"fill_color\":{\"value\":\"#1f77b4\"},\"line_alpha\":{\"value\":0.1},\"line_color\":{\"value\":\"#1f77b4\"},\"top\":{\"field\":\"counts\"},\"width\":{\"value\":0.9},\"x\":{\"field\":\"fruits\"}},\"id\":\"2827\",\"type\":\"VBar\"},{\"attributes\":{},\"id\":\"2831\",\"type\":\"CategoricalTickFormatter\"},{\"attributes\":{},\"id\":\"2816\",\"type\":\"CategoricalTicker\"},{\"attributes\":{\"callback\":null,\"end\":9},\"id\":\"2809\",\"type\":\"Range1d\"},{\"attributes\":{\"callback\":null,\"data\":{\"color\":[\"#3288bd\",\"#99d594\",\"#e6f598\",\"#fee08b\",\"#fc8d59\",\"#d53e4f\"],\"counts\":[5,3,4,2,4,6],\"fruits\":[\"Apples\",\"Pears\",\"Nectarines\",\"Plums\",\"Grapes\",\"Strawberries\"]},\"selected\":{\"id\":\"2938\",\"type\":\"Selection\"},\"selection_policy\":{\"id\":\"2937\",\"type\":\"UnionRenderers\"}},\"id\":\"2803\",\"type\":\"ColumnDataSource\"},{\"attributes\":{},\"id\":\"2820\",\"type\":\"BasicTicker\"},{\"attributes\":{},\"id\":\"2813\",\"type\":\"LinearScale\"},{\"attributes\":{},\"id\":\"2833\",\"type\":\"BasicTickFormatter\"},{\"attributes\":{\"active_drag\":\"auto\",\"active_inspect\":\"auto\",\"active_multi\":null,\"active_scroll\":\"auto\",\"active_tap\":\"auto\"},\"id\":\"2824\",\"type\":\"Toolbar\"},{\"attributes\":{\"items\":[{\"id\":\"2836\",\"type\":\"LegendItem\"}],\"location\":\"top_center\",\"orientation\":\"horizontal\"},\"id\":\"2835\",\"type\":\"Legend\"},{\"attributes\":{\"source\":{\"id\":\"2803\",\"type\":\"ColumnDataSource\"}},\"id\":\"2829\",\"type\":\"CDSView\"},{\"attributes\":{},\"id\":\"2811\",\"type\":\"CategoricalScale\"},{\"attributes\":{\"dimension\":1,\"ticker\":{\"id\":\"2820\",\"type\":\"BasicTicker\"}},\"id\":\"2823\",\"type\":\"Grid\"},{\"attributes\":{\"label\":{\"field\":\"fruits\"},\"renderers\":[{\"id\":\"2828\",\"type\":\"GlyphRenderer\"}]},\"id\":\"2836\",\"type\":\"LegendItem\"},{\"attributes\":{\"fill_color\":{\"field\":\"color\"},\"line_color\":{\"field\":\"color\"},\"top\":{\"field\":\"counts\"},\"width\":{\"value\":0.9},\"x\":{\"field\":\"fruits\"}},\"id\":\"2826\",\"type\":\"VBar\"},{\"attributes\":{\"callback\":null,\"factors\":[\"Apples\",\"Pears\",\"Nectarines\",\"Plums\",\"Grapes\",\"Strawberries\"]},\"id\":\"2807\",\"type\":\"FactorRange\"},{\"attributes\":{\"formatter\":{\"id\":\"2833\",\"type\":\"BasicTickFormatter\"},\"ticker\":{\"id\":\"2820\",\"type\":\"BasicTicker\"}},\"id\":\"2819\",\"type\":\"LinearAxis\"},{\"attributes\":{\"formatter\":{\"id\":\"2831\",\"type\":\"CategoricalTickFormatter\"},\"ticker\":{\"id\":\"2816\",\"type\":\"CategoricalTicker\"}},\"id\":\"2815\",\"type\":\"CategoricalAxis\"},{\"attributes\":{\"text\":\"Fruit Counts\"},\"id\":\"2805\",\"type\":\"Title\"},{\"attributes\":{},\"id\":\"2938\",\"type\":\"Selection\"},{\"attributes\":{\"data_source\":{\"id\":\"2803\",\"type\":\"ColumnDataSource\"},\"glyph\":{\"id\":\"2826\",\"type\":\"VBar\"},\"hover_glyph\":null,\"muted_glyph\":null,\"nonselection_glyph\":{\"id\":\"2827\",\"type\":\"VBar\"},\"selection_glyph\":null,\"view\":{\"id\":\"2829\",\"type\":\"CDSView\"}},\"id\":\"2828\",\"type\":\"GlyphRenderer\"},{\"attributes\":{\"grid_line_color\":null,\"ticker\":{\"id\":\"2816\",\"type\":\"CategoricalTicker\"}},\"id\":\"2818\",\"type\":\"Grid\"},{\"attributes\":{},\"id\":\"2937\",\"type\":\"UnionRenderers\"}],\"root_ids\":[\"2804\"]},\"title\":\"Bokeh Application\",\"version\":\"1.4.0\"}};\n",
       "  var render_items = [{\"docid\":\"f72e8e6a-2c83-442f-904e-c361f686f4d5\",\"roots\":{\"2804\":\"a6e43c2b-4f81-4b4b-8e19-f89a74f68962\"}}];\n",
       "  root.Bokeh.embed.embed_items_notebook(docs_json, render_items);\n",
       "\n",
       "  }\n",
       "  if (root.Bokeh !== undefined) {\n",
       "    embed_document(root);\n",
       "  } else {\n",
       "    var attempts = 0;\n",
       "    var timer = setInterval(function(root) {\n",
       "      if (root.Bokeh !== undefined) {\n",
       "        clearInterval(timer);\n",
       "        embed_document(root);\n",
       "      } else {\n",
       "        attempts++;\n",
       "        if (attempts > 100) {\n",
       "          clearInterval(timer);\n",
       "          console.log(\"Bokeh: ERROR: Unable to run BokehJS code because BokehJS library is missing\");\n",
       "        }\n",
       "      }\n",
       "    }, 10, root)\n",
       "  }\n",
       "})(window);"
      ],
      "application/vnd.bokehjs_exec.v0+json": ""
     },
     "metadata": {
      "application/vnd.bokehjs_exec.v0+json": {
       "id": "2804"
      }
     },
     "output_type": "display_data"
    }
   ],
   "source": [
    "from bokeh.models import ColumnDataSource\n",
    "from bokeh.palettes import Spectral6\n",
    "\n",
    "fruits = ['Apples', 'Pears', 'Nectarines', 'Plums', 'Grapes', 'Strawberries']\n",
    "counts = [5, 3, 4, 2, 4, 6]\n",
    "\n",
    "source = ColumnDataSource(data=dict(fruits=fruits, counts=counts, color=Spectral6))\n",
    "\n",
    "p = figure(x_range=fruits, y_range=(0,9), plot_height=250, title=\"Fruit Counts\",\n",
    "           toolbar_location=None, tools=\"\")\n",
    "\n",
    "p.vbar(x='fruits', top='counts', width=0.9, color='color', legend_field=\"fruits\", source=source)\n",
    "\n",
    "p.xgrid.grid_line_color = None\n",
    "p.legend.orientation = \"horizontal\"\n",
    "p.legend.location = \"top_center\"\n",
    "\n",
    "show(p)"
   ]
  },
  {
   "cell_type": "code",
   "execution_count": 22,
   "metadata": {},
   "outputs": [
    {
     "data": {
      "text/plain": [
       "{'fruits': ['Apples',\n",
       "  'Pears',\n",
       "  'Nectarines',\n",
       "  'Plums',\n",
       "  'Grapes',\n",
       "  'Strawberries'],\n",
       " 'counts': [5, 3, 4, 2, 4, 6],\n",
       " 'color': ['#3288bd', '#99d594', '#e6f598', '#fee08b', '#fc8d59', '#d53e4f']}"
      ]
     },
     "execution_count": 22,
     "metadata": {},
     "output_type": "execute_result"
    }
   ],
   "source": [
    "dict(fruits=fruits, counts=counts, color=Spectral6)"
   ]
  },
  {
   "cell_type": "markdown",
   "metadata": {},
   "source": [
    "另一种方式是创建一个<font color=red>CategoricalColorMapper</font>，利用函数`function_camp()`可以实现：\n",
    "```python\n",
    "factor_cmap('fruits', palette=Spectral6, factors=fruits)\n",
    "```"
   ]
  },
  {
   "cell_type": "code",
   "execution_count": 25,
   "metadata": {},
   "outputs": [
    {
     "data": {
      "text/html": [
       "\n",
       "\n",
       "\n",
       "\n",
       "\n",
       "\n",
       "  <div class=\"bk-root\" id=\"c37f18b4-261f-431b-adf1-f721e1778d81\" data-root-id=\"3222\"></div>\n"
      ]
     },
     "metadata": {},
     "output_type": "display_data"
    },
    {
     "data": {
      "application/javascript": [
       "(function(root) {\n",
       "  function embed_document(root) {\n",
       "    \n",
       "  var docs_json = {\"a1102109-6569-46c6-b506-091e9eeb788d\":{\"roots\":{\"references\":[{\"attributes\":{\"below\":[{\"id\":\"3233\",\"type\":\"CategoricalAxis\"}],\"center\":[{\"id\":\"3236\",\"type\":\"Grid\"},{\"id\":\"3241\",\"type\":\"Grid\"},{\"id\":\"3267\",\"type\":\"Legend\"}],\"left\":[{\"id\":\"3237\",\"type\":\"LinearAxis\"}],\"plot_height\":250,\"renderers\":[{\"id\":\"3259\",\"type\":\"GlyphRenderer\"}],\"title\":{\"id\":\"3223\",\"type\":\"Title\"},\"toolbar\":{\"id\":\"3248\",\"type\":\"Toolbar\"},\"toolbar_location\":null,\"x_range\":{\"id\":\"3225\",\"type\":\"FactorRange\"},\"x_scale\":{\"id\":\"3229\",\"type\":\"CategoricalScale\"},\"y_range\":{\"id\":\"3227\",\"type\":\"DataRange1d\"},\"y_scale\":{\"id\":\"3231\",\"type\":\"LinearScale\"}},\"id\":\"3222\",\"subtype\":\"Figure\",\"type\":\"Plot\"},{\"attributes\":{\"bottom_units\":\"screen\",\"fill_alpha\":{\"value\":0.5},\"fill_color\":{\"value\":\"lightgrey\"},\"left_units\":\"screen\",\"level\":\"overlay\",\"line_alpha\":{\"value\":1.0},\"line_color\":{\"value\":\"black\"},\"line_dash\":[4,4],\"line_width\":{\"value\":2},\"render_mode\":\"css\",\"right_units\":\"screen\",\"top_units\":\"screen\"},\"id\":\"3266\",\"type\":\"BoxAnnotation\"},{\"attributes\":{},\"id\":\"3384\",\"type\":\"UnionRenderers\"},{\"attributes\":{\"dimension\":1,\"ticker\":{\"id\":\"3238\",\"type\":\"BasicTicker\"}},\"id\":\"3241\",\"type\":\"Grid\"},{\"attributes\":{\"fill_alpha\":{\"value\":0.1},\"fill_color\":{\"value\":\"#1f77b4\"},\"line_alpha\":{\"value\":0.1},\"line_color\":{\"value\":\"#1f77b4\"},\"top\":{\"field\":\"counts\"},\"width\":{\"value\":0.9},\"x\":{\"field\":\"fruits\"}},\"id\":\"3258\",\"type\":\"VBar\"},{\"attributes\":{\"items\":[{\"id\":\"3268\",\"type\":\"LegendItem\"}],\"location\":\"top_center\",\"orientation\":\"horizontal\"},\"id\":\"3267\",\"type\":\"Legend\"},{\"attributes\":{},\"id\":\"3264\",\"type\":\"BasicTickFormatter\"},{\"attributes\":{},\"id\":\"3242\",\"type\":\"PanTool\"},{\"attributes\":{\"label\":{\"field\":\"fruits\"},\"renderers\":[{\"id\":\"3259\",\"type\":\"GlyphRenderer\"}]},\"id\":\"3268\",\"type\":\"LegendItem\"},{\"attributes\":{\"callback\":null,\"data\":{\"counts\":[5,3,4,2,4,6,3,4],\"fruits\":[\"Apples\",\"Pears\",\"Nectarines\",\"Plums\",\"Grapes\",\"Strawberries\",\"\\u65b0\\u7684\",\"\\u4e5f\\u662f\\u65b0\\u7684\"]},\"selected\":{\"id\":\"3385\",\"type\":\"Selection\"},\"selection_policy\":{\"id\":\"3384\",\"type\":\"UnionRenderers\"}},\"id\":\"3221\",\"type\":\"ColumnDataSource\"},{\"attributes\":{\"grid_line_color\":null,\"ticker\":{\"id\":\"3234\",\"type\":\"CategoricalTicker\"}},\"id\":\"3236\",\"type\":\"Grid\"},{\"attributes\":{},\"id\":\"3385\",\"type\":\"Selection\"},{\"attributes\":{\"factors\":[\"Apples\",\"Pears\",\"Nectarines\",\"Plums\",\"Grapes\",\"Strawberries\",\"\\u65b0\\u7684\",\"\\u4e5f\\u662f\\u65b0\\u7684\"],\"palette\":[\"#3288bd\",\"#66c2a5\",\"#abdda4\",\"#e6f598\",\"#fee08b\",\"#fdae61\",\"#f46d43\",\"#d53e4f\"]},\"id\":\"3255\",\"type\":\"CategoricalColorMapper\"},{\"attributes\":{\"data_source\":{\"id\":\"3221\",\"type\":\"ColumnDataSource\"},\"glyph\":{\"id\":\"3257\",\"type\":\"VBar\"},\"hover_glyph\":null,\"muted_glyph\":null,\"nonselection_glyph\":{\"id\":\"3258\",\"type\":\"VBar\"},\"selection_glyph\":null,\"view\":{\"id\":\"3260\",\"type\":\"CDSView\"}},\"id\":\"3259\",\"type\":\"GlyphRenderer\"},{\"attributes\":{},\"id\":\"3238\",\"type\":\"BasicTicker\"},{\"attributes\":{\"active_drag\":\"auto\",\"active_inspect\":\"auto\",\"active_multi\":null,\"active_scroll\":\"auto\",\"active_tap\":\"auto\",\"tools\":[{\"id\":\"3242\",\"type\":\"PanTool\"},{\"id\":\"3243\",\"type\":\"WheelZoomTool\"},{\"id\":\"3244\",\"type\":\"BoxZoomTool\"},{\"id\":\"3245\",\"type\":\"SaveTool\"},{\"id\":\"3246\",\"type\":\"ResetTool\"},{\"id\":\"3247\",\"type\":\"HelpTool\"}]},\"id\":\"3248\",\"type\":\"Toolbar\"},{\"attributes\":{},\"id\":\"3243\",\"type\":\"WheelZoomTool\"},{\"attributes\":{},\"id\":\"3234\",\"type\":\"CategoricalTicker\"},{\"attributes\":{},\"id\":\"3262\",\"type\":\"CategoricalTickFormatter\"},{\"attributes\":{},\"id\":\"3247\",\"type\":\"HelpTool\"},{\"attributes\":{},\"id\":\"3246\",\"type\":\"ResetTool\"},{\"attributes\":{},\"id\":\"3231\",\"type\":\"LinearScale\"},{\"attributes\":{\"callback\":null,\"end\":9,\"start\":0},\"id\":\"3227\",\"type\":\"DataRange1d\"},{\"attributes\":{},\"id\":\"3229\",\"type\":\"CategoricalScale\"},{\"attributes\":{},\"id\":\"3245\",\"type\":\"SaveTool\"},{\"attributes\":{\"fill_color\":{\"field\":\"fruits\",\"transform\":{\"id\":\"3255\",\"type\":\"CategoricalColorMapper\"}},\"top\":{\"field\":\"counts\"},\"width\":{\"value\":0.9},\"x\":{\"field\":\"fruits\"}},\"id\":\"3257\",\"type\":\"VBar\"},{\"attributes\":{\"text\":\"Fruit Counts\"},\"id\":\"3223\",\"type\":\"Title\"},{\"attributes\":{\"formatter\":{\"id\":\"3264\",\"type\":\"BasicTickFormatter\"},\"ticker\":{\"id\":\"3238\",\"type\":\"BasicTicker\"}},\"id\":\"3237\",\"type\":\"LinearAxis\"},{\"attributes\":{\"callback\":null,\"factors\":[\"Apples\",\"Pears\",\"Nectarines\",\"Plums\",\"Grapes\",\"Strawberries\",\"\\u65b0\\u7684\",\"\\u4e5f\\u662f\\u65b0\\u7684\"]},\"id\":\"3225\",\"type\":\"FactorRange\"},{\"attributes\":{\"source\":{\"id\":\"3221\",\"type\":\"ColumnDataSource\"}},\"id\":\"3260\",\"type\":\"CDSView\"},{\"attributes\":{\"overlay\":{\"id\":\"3266\",\"type\":\"BoxAnnotation\"}},\"id\":\"3244\",\"type\":\"BoxZoomTool\"},{\"attributes\":{\"formatter\":{\"id\":\"3262\",\"type\":\"CategoricalTickFormatter\"},\"ticker\":{\"id\":\"3234\",\"type\":\"CategoricalTicker\"}},\"id\":\"3233\",\"type\":\"CategoricalAxis\"}],\"root_ids\":[\"3222\"]},\"title\":\"Bokeh Application\",\"version\":\"1.4.0\"}};\n",
       "  var render_items = [{\"docid\":\"a1102109-6569-46c6-b506-091e9eeb788d\",\"roots\":{\"3222\":\"c37f18b4-261f-431b-adf1-f721e1778d81\"}}];\n",
       "  root.Bokeh.embed.embed_items_notebook(docs_json, render_items);\n",
       "\n",
       "  }\n",
       "  if (root.Bokeh !== undefined) {\n",
       "    embed_document(root);\n",
       "  } else {\n",
       "    var attempts = 0;\n",
       "    var timer = setInterval(function(root) {\n",
       "      if (root.Bokeh !== undefined) {\n",
       "        clearInterval(timer);\n",
       "        embed_document(root);\n",
       "      } else {\n",
       "        attempts++;\n",
       "        if (attempts > 100) {\n",
       "          clearInterval(timer);\n",
       "          console.log(\"Bokeh: ERROR: Unable to run BokehJS code because BokehJS library is missing\");\n",
       "        }\n",
       "      }\n",
       "    }, 10, root)\n",
       "  }\n",
       "})(window);"
      ],
      "application/vnd.bokehjs_exec.v0+json": ""
     },
     "metadata": {
      "application/vnd.bokehjs_exec.v0+json": {
       "id": "3222"
      }
     },
     "output_type": "display_data"
    }
   ],
   "source": [
    "from bokeh.palettes import Spectral8# 既然有8个类别，就引入8中颜色\n",
    "from bokeh.transform import factor_cmap\n",
    "\n",
    "fruits = ['Apples', 'Pears', 'Nectarines', 'Plums', 'Grapes', 'Strawberries','新的','也是新的']\n",
    "counts = [5, 3, 4, 2, 4, 6,3,4]\n",
    "\n",
    "source = ColumnDataSource(data=dict(fruits=fruits, counts=counts))\n",
    "\n",
    "p = figure(x_range=fruits, plot_height=250, toolbar_location=None, title=\"Fruit Counts\")\n",
    "p.vbar(x='fruits', top='counts', width=0.9, source=source, legend_field=\"fruits\",\n",
    "       line_color='black', # 绘制条的外形轮廓颜色\n",
    "       fill_color=factor_cmap('fruits', palette=Spectral8, factors=fruits))\n",
    "\n",
    "p.xgrid.grid_line_color = None\n",
    "p.y_range.start = 0\n",
    "p.y_range.end = 9\n",
    "p.legend.orientation = \"horizontal\"\n",
    "p.legend.location = \"top_center\"\n",
    "\n",
    "show(p)"
   ]
  },
  {
   "cell_type": "markdown",
   "metadata": {},
   "source": [
    "### Stack堆放"
   ]
  },
  {
   "cell_type": "code",
   "execution_count": 27,
   "metadata": {},
   "outputs": [
    {
     "data": {
      "text/html": [
       "\n",
       "\n",
       "\n",
       "\n",
       "\n",
       "\n",
       "  <div class=\"bk-root\" id=\"d8f9f6de-f2d1-420f-bd06-df24cc3f2416\" data-root-id=\"3700\"></div>\n"
      ]
     },
     "metadata": {},
     "output_type": "display_data"
    },
    {
     "data": {
      "application/javascript": [
       "(function(root) {\n",
       "  function embed_document(root) {\n",
       "    \n",
       "  var docs_json = {\"cdf98549-e31a-4636-8188-41494b5f1026\":{\"roots\":{\"references\":[{\"attributes\":{\"below\":[{\"id\":\"3711\",\"type\":\"CategoricalAxis\"}],\"center\":[{\"id\":\"3714\",\"type\":\"Grid\"},{\"id\":\"3719\",\"type\":\"Grid\"},{\"id\":\"3738\",\"type\":\"Legend\"}],\"left\":[{\"id\":\"3715\",\"type\":\"LinearAxis\"}],\"outline_line_color\":{\"value\":null},\"plot_height\":250,\"renderers\":[{\"id\":\"3731\",\"type\":\"GlyphRenderer\"},{\"id\":\"3744\",\"type\":\"GlyphRenderer\"},{\"id\":\"3758\",\"type\":\"GlyphRenderer\"}],\"title\":{\"id\":\"3701\",\"type\":\"Title\"},\"toolbar\":{\"id\":\"3720\",\"type\":\"Toolbar\"},\"toolbar_location\":null,\"x_range\":{\"id\":\"3703\",\"type\":\"FactorRange\"},\"x_scale\":{\"id\":\"3707\",\"type\":\"CategoricalScale\"},\"y_range\":{\"id\":\"3705\",\"type\":\"DataRange1d\"},\"y_scale\":{\"id\":\"3709\",\"type\":\"LinearScale\"}},\"id\":\"3700\",\"subtype\":\"Figure\",\"type\":\"Plot\"},{\"attributes\":{\"bottom\":{\"expr\":{\"id\":\"3721\",\"type\":\"Stack\"}},\"fill_color\":{\"value\":\"#c9d9d3\"},\"line_color\":{\"value\":\"#c9d9d3\"},\"top\":{\"expr\":{\"id\":\"3722\",\"type\":\"Stack\"}},\"width\":{\"value\":0.9},\"x\":{\"field\":\"fruits\"}},\"id\":\"3729\",\"type\":\"VBar\"},{\"attributes\":{},\"id\":\"3707\",\"type\":\"CategoricalScale\"},{\"attributes\":{\"source\":{\"id\":\"3754\",\"type\":\"ColumnDataSource\"}},\"id\":\"3759\",\"type\":\"CDSView\"},{\"attributes\":{\"bottom\":{\"expr\":{\"id\":\"3721\",\"type\":\"Stack\"}},\"fill_alpha\":{\"value\":0.1},\"fill_color\":{\"value\":\"#1f77b4\"},\"line_alpha\":{\"value\":0.1},\"line_color\":{\"value\":\"#1f77b4\"},\"top\":{\"expr\":{\"id\":\"3722\",\"type\":\"Stack\"}},\"width\":{\"value\":0.9},\"x\":{\"field\":\"fruits\"}},\"id\":\"3730\",\"type\":\"VBar\"},{\"attributes\":{},\"id\":\"3709\",\"type\":\"LinearScale\"},{\"attributes\":{\"callback\":null,\"start\":0},\"id\":\"3705\",\"type\":\"DataRange1d\"},{\"attributes\":{},\"id\":\"3768\",\"type\":\"Selection\"},{\"attributes\":{\"data_source\":{\"id\":\"3727\",\"type\":\"ColumnDataSource\"},\"glyph\":{\"id\":\"3729\",\"type\":\"VBar\"},\"hover_glyph\":null,\"muted_glyph\":null,\"name\":\"2015\",\"nonselection_glyph\":{\"id\":\"3730\",\"type\":\"VBar\"},\"selection_glyph\":null,\"view\":{\"id\":\"3732\",\"type\":\"CDSView\"}},\"id\":\"3731\",\"type\":\"GlyphRenderer\"},{\"attributes\":{\"formatter\":{\"id\":\"3734\",\"type\":\"CategoricalTickFormatter\"},\"minor_tick_line_color\":{\"value\":null},\"ticker\":{\"id\":\"3712\",\"type\":\"CategoricalTicker\"}},\"id\":\"3711\",\"type\":\"CategoricalAxis\"},{\"attributes\":{\"label\":{\"value\":\"2017\"},\"renderers\":[{\"id\":\"3758\",\"type\":\"GlyphRenderer\"}]},\"id\":\"3769\",\"type\":\"LegendItem\"},{\"attributes\":{\"source\":{\"id\":\"3727\",\"type\":\"ColumnDataSource\"}},\"id\":\"3732\",\"type\":\"CDSView\"},{\"attributes\":{},\"id\":\"3712\",\"type\":\"CategoricalTicker\"},{\"attributes\":{},\"id\":\"3751\",\"type\":\"UnionRenderers\"},{\"attributes\":{},\"id\":\"3734\",\"type\":\"CategoricalTickFormatter\"},{\"attributes\":{\"grid_line_color\":null,\"ticker\":{\"id\":\"3712\",\"type\":\"CategoricalTicker\"}},\"id\":\"3714\",\"type\":\"Grid\"},{\"attributes\":{},\"id\":\"3909\",\"type\":\"Selection\"},{\"attributes\":{},\"id\":\"3736\",\"type\":\"BasicTickFormatter\"},{\"attributes\":{\"formatter\":{\"id\":\"3736\",\"type\":\"BasicTickFormatter\"},\"minor_tick_line_color\":{\"value\":null},\"ticker\":{\"id\":\"3716\",\"type\":\"BasicTicker\"}},\"id\":\"3715\",\"type\":\"LinearAxis\"},{\"attributes\":{},\"id\":\"3716\",\"type\":\"BasicTicker\"},{\"attributes\":{\"bottom\":{\"expr\":{\"id\":\"3723\",\"type\":\"Stack\"}},\"fill_color\":{\"value\":\"#718dbf\"},\"line_color\":{\"value\":\"#718dbf\"},\"top\":{\"expr\":{\"id\":\"3724\",\"type\":\"Stack\"}},\"width\":{\"value\":0.9},\"x\":{\"field\":\"fruits\"}},\"id\":\"3742\",\"type\":\"VBar\"},{\"attributes\":{\"dimension\":1,\"ticker\":{\"id\":\"3716\",\"type\":\"BasicTicker\"}},\"id\":\"3719\",\"type\":\"Grid\"},{\"attributes\":{\"bottom\":{\"expr\":{\"id\":\"3723\",\"type\":\"Stack\"}},\"fill_alpha\":{\"value\":0.1},\"fill_color\":{\"value\":\"#1f77b4\"},\"line_alpha\":{\"value\":0.1},\"line_color\":{\"value\":\"#1f77b4\"},\"top\":{\"expr\":{\"id\":\"3724\",\"type\":\"Stack\"}},\"width\":{\"value\":0.9},\"x\":{\"field\":\"fruits\"}},\"id\":\"3743\",\"type\":\"VBar\"},{\"attributes\":{\"active_drag\":\"auto\",\"active_inspect\":\"auto\",\"active_multi\":null,\"active_scroll\":\"auto\",\"active_tap\":\"auto\"},\"id\":\"3720\",\"type\":\"Toolbar\"},{\"attributes\":{\"data_source\":{\"id\":\"3740\",\"type\":\"ColumnDataSource\"},\"glyph\":{\"id\":\"3742\",\"type\":\"VBar\"},\"hover_glyph\":null,\"muted_glyph\":null,\"name\":\"2016\",\"nonselection_glyph\":{\"id\":\"3743\",\"type\":\"VBar\"},\"selection_glyph\":null,\"view\":{\"id\":\"3745\",\"type\":\"CDSView\"}},\"id\":\"3744\",\"type\":\"GlyphRenderer\"},{\"attributes\":{\"items\":[{\"id\":\"3739\",\"type\":\"LegendItem\"},{\"id\":\"3753\",\"type\":\"LegendItem\"},{\"id\":\"3769\",\"type\":\"LegendItem\"}],\"location\":\"top_left\",\"orientation\":\"horizontal\"},\"id\":\"3738\",\"type\":\"Legend\"},{\"attributes\":{},\"id\":\"3767\",\"type\":\"UnionRenderers\"},{\"attributes\":{\"label\":{\"value\":\"2015\"},\"renderers\":[{\"id\":\"3731\",\"type\":\"GlyphRenderer\"}]},\"id\":\"3739\",\"type\":\"LegendItem\"},{\"attributes\":{\"source\":{\"id\":\"3740\",\"type\":\"ColumnDataSource\"}},\"id\":\"3745\",\"type\":\"CDSView\"},{\"attributes\":{},\"id\":\"3908\",\"type\":\"UnionRenderers\"},{\"attributes\":{\"callback\":null,\"factors\":[\"Apples\",\"Pears\",\"Nectarines\",\"Plums\",\"Grapes\",\"Strawberries\"],\"range_padding\":0.1},\"id\":\"3703\",\"type\":\"FactorRange\"},{\"attributes\":{\"fields\":[\"2015\"]},\"id\":\"3722\",\"type\":\"Stack\"},{\"attributes\":{},\"id\":\"3752\",\"type\":\"Selection\"},{\"attributes\":{\"fields\":[\"2015\"]},\"id\":\"3723\",\"type\":\"Stack\"},{\"attributes\":{\"label\":{\"value\":\"2016\"},\"renderers\":[{\"id\":\"3744\",\"type\":\"GlyphRenderer\"}]},\"id\":\"3753\",\"type\":\"LegendItem\"},{\"attributes\":{\"fields\":[\"2015\",\"2016\"]},\"id\":\"3724\",\"type\":\"Stack\"},{\"attributes\":{\"callback\":null,\"data\":{\"2015\":[2,1,4,3,2,4],\"2016\":[5,3,4,2,4,6],\"2017\":[3,2,4,4,5,3],\"fruits\":[\"Apples\",\"Pears\",\"Nectarines\",\"Plums\",\"Grapes\",\"Strawberries\"]},\"selected\":{\"id\":\"3909\",\"type\":\"Selection\"},\"selection_policy\":{\"id\":\"3908\",\"type\":\"UnionRenderers\"}},\"id\":\"3754\",\"type\":\"ColumnDataSource\"},{\"attributes\":{\"fields\":[\"2015\",\"2016\"]},\"id\":\"3725\",\"type\":\"Stack\"},{\"attributes\":{\"text\":\"Fruit Counts by Year\"},\"id\":\"3701\",\"type\":\"Title\"},{\"attributes\":{\"fields\":[\"2015\",\"2016\",\"2017\"]},\"id\":\"3726\",\"type\":\"Stack\"},{\"attributes\":{\"bottom\":{\"expr\":{\"id\":\"3725\",\"type\":\"Stack\"}},\"fill_color\":{\"value\":\"#e84d60\"},\"line_color\":{\"value\":\"#e84d60\"},\"top\":{\"expr\":{\"id\":\"3726\",\"type\":\"Stack\"}},\"width\":{\"value\":0.9},\"x\":{\"field\":\"fruits\"}},\"id\":\"3756\",\"type\":\"VBar\"},{\"attributes\":{\"callback\":null,\"data\":{\"2015\":[2,1,4,3,2,4],\"2016\":[5,3,4,2,4,6],\"2017\":[3,2,4,4,5,3],\"fruits\":[\"Apples\",\"Pears\",\"Nectarines\",\"Plums\",\"Grapes\",\"Strawberries\"]},\"selected\":{\"id\":\"3752\",\"type\":\"Selection\"},\"selection_policy\":{\"id\":\"3751\",\"type\":\"UnionRenderers\"}},\"id\":\"3727\",\"type\":\"ColumnDataSource\"},{\"attributes\":{\"bottom\":{\"expr\":{\"id\":\"3725\",\"type\":\"Stack\"}},\"fill_alpha\":{\"value\":0.1},\"fill_color\":{\"value\":\"#1f77b4\"},\"line_alpha\":{\"value\":0.1},\"line_color\":{\"value\":\"#1f77b4\"},\"top\":{\"expr\":{\"id\":\"3726\",\"type\":\"Stack\"}},\"width\":{\"value\":0.9},\"x\":{\"field\":\"fruits\"}},\"id\":\"3757\",\"type\":\"VBar\"},{\"attributes\":{\"fields\":[]},\"id\":\"3721\",\"type\":\"Stack\"},{\"attributes\":{\"data_source\":{\"id\":\"3754\",\"type\":\"ColumnDataSource\"},\"glyph\":{\"id\":\"3756\",\"type\":\"VBar\"},\"hover_glyph\":null,\"muted_glyph\":null,\"name\":\"2017\",\"nonselection_glyph\":{\"id\":\"3757\",\"type\":\"VBar\"},\"selection_glyph\":null,\"view\":{\"id\":\"3759\",\"type\":\"CDSView\"}},\"id\":\"3758\",\"type\":\"GlyphRenderer\"},{\"attributes\":{\"callback\":null,\"data\":{\"2015\":[2,1,4,3,2,4],\"2016\":[5,3,4,2,4,6],\"2017\":[3,2,4,4,5,3],\"fruits\":[\"Apples\",\"Pears\",\"Nectarines\",\"Plums\",\"Grapes\",\"Strawberries\"]},\"selected\":{\"id\":\"3768\",\"type\":\"Selection\"},\"selection_policy\":{\"id\":\"3767\",\"type\":\"UnionRenderers\"}},\"id\":\"3740\",\"type\":\"ColumnDataSource\"}],\"root_ids\":[\"3700\"]},\"title\":\"Bokeh Application\",\"version\":\"1.4.0\"}};\n",
       "  var render_items = [{\"docid\":\"cdf98549-e31a-4636-8188-41494b5f1026\",\"roots\":{\"3700\":\"d8f9f6de-f2d1-420f-bd06-df24cc3f2416\"}}];\n",
       "  root.Bokeh.embed.embed_items_notebook(docs_json, render_items);\n",
       "\n",
       "  }\n",
       "  if (root.Bokeh !== undefined) {\n",
       "    embed_document(root);\n",
       "  } else {\n",
       "    var attempts = 0;\n",
       "    var timer = setInterval(function(root) {\n",
       "      if (root.Bokeh !== undefined) {\n",
       "        clearInterval(timer);\n",
       "        embed_document(root);\n",
       "      } else {\n",
       "        attempts++;\n",
       "        if (attempts > 100) {\n",
       "          clearInterval(timer);\n",
       "          console.log(\"Bokeh: ERROR: Unable to run BokehJS code because BokehJS library is missing\");\n",
       "        }\n",
       "      }\n",
       "    }, 10, root)\n",
       "  }\n",
       "})(window);"
      ],
      "application/vnd.bokehjs_exec.v0+json": ""
     },
     "metadata": {
      "application/vnd.bokehjs_exec.v0+json": {
       "id": "3700"
      }
     },
     "output_type": "display_data"
    }
   ],
   "source": [
    "fruits = ['Apples', 'Pears', 'Nectarines', 'Plums', 'Grapes', 'Strawberries']\n",
    "years = [\"2015\", \"2016\", \"2017\"]\n",
    "colors = [\"#c9d9d3\", \"#718dbf\", \"#e84d60\"]\n",
    "\n",
    "data = {'fruits' : fruits,\n",
    "        '2015'   : [2, 1, 4, 3, 2, 4],\n",
    "        '2016'   : [5, 3, 4, 2, 4, 6],\n",
    "        '2017'   : [3, 2, 4, 4, 5, 3]}\n",
    "\n",
    "p = figure(x_range=fruits, plot_height=250, title=\"Fruit Counts by Year\",\n",
    "           toolbar_location=None, tools=\"\")\n",
    "\n",
    "p.vbar_stack(years,# vbar_stack函数实现堆放\n",
    "             x='fruits', width=0.9, color=colors, source=data,\n",
    "             legend_label=years)\n",
    "\n",
    "p.y_range.start = 0\n",
    "p.x_range.range_padding = 0.1\n",
    "p.xgrid.grid_line_color = None\n",
    "p.axis.minor_tick_line_color = None\n",
    "p.outline_line_color = None\n",
    "p.legend.location = \"top_left\"\n",
    "p.legend.orientation = \"horizontal\"\n",
    "\n",
    "show(p)"
   ]
  },
  {
   "cell_type": "markdown",
   "metadata": {},
   "source": [
    "## Grouped分组\n",
    "### Nested Categories嵌套类"
   ]
  },
  {
   "cell_type": "code",
   "execution_count": 29,
   "metadata": {},
   "outputs": [
    {
     "data": {
      "text/html": [
       "\n",
       "\n",
       "\n",
       "\n",
       "\n",
       "\n",
       "  <div class=\"bk-root\" id=\"347b00f8-792b-4c89-adfa-7ac2bede99e4\" data-root-id=\"3979\"></div>\n"
      ]
     },
     "metadata": {},
     "output_type": "display_data"
    },
    {
     "data": {
      "application/javascript": [
       "(function(root) {\n",
       "  function embed_document(root) {\n",
       "    \n",
       "  var docs_json = {\"51f3265c-7cd5-4f80-ad5f-d29ef78d440d\":{\"roots\":{\"references\":[{\"attributes\":{\"below\":[{\"id\":\"3989\",\"type\":\"CategoricalAxis\"}],\"center\":[{\"id\":\"3992\",\"type\":\"Grid\"},{\"id\":\"3997\",\"type\":\"Grid\"}],\"left\":[{\"id\":\"3993\",\"type\":\"LinearAxis\"}],\"plot_height\":250,\"renderers\":[{\"id\":\"4002\",\"type\":\"GlyphRenderer\"}],\"title\":{\"id\":\"3980\",\"type\":\"Title\"},\"toolbar\":{\"id\":\"3998\",\"type\":\"Toolbar\"},\"toolbar_location\":null,\"x_range\":{\"id\":\"3978\",\"type\":\"FactorRange\"},\"x_scale\":{\"id\":\"3985\",\"type\":\"CategoricalScale\"},\"y_range\":{\"id\":\"3983\",\"type\":\"DataRange1d\"},\"y_scale\":{\"id\":\"3987\",\"type\":\"LinearScale\"}},\"id\":\"3979\",\"subtype\":\"Figure\",\"type\":\"Plot\"},{\"attributes\":{\"callback\":null,\"data\":{\"counts\":[2,5,3,1,3,2,4,3,4,3,2,4,2,4,5,4,6,3],\"x\":[[\"Apples\",\"2015\"],[\"Apples\",\"2016\"],[\"Apples\",\"2017\"],[\"Pears\",\"2015\"],[\"Pears\",\"2016\"],[\"Pears\",\"2017\"],[\"Nectarines\",\"2015\"],[\"Nectarines\",\"2016\"],[\"Nectarines\",\"2017\"],[\"Plums\",\"2015\"],[\"Plums\",\"2016\"],[\"Plums\",\"2017\"],[\"Grapes\",\"2015\"],[\"Grapes\",\"2016\"],[\"Grapes\",\"2017\"],[\"Strawberries\",\"2015\"],[\"Strawberries\",\"2016\"],[\"Strawberries\",\"2017\"]]},\"selected\":{\"id\":\"4150\",\"type\":\"Selection\"},\"selection_policy\":{\"id\":\"4149\",\"type\":\"UnionRenderers\"}},\"id\":\"3977\",\"type\":\"ColumnDataSource\"},{\"attributes\":{\"fill_alpha\":{\"value\":0.1},\"fill_color\":{\"value\":\"#1f77b4\"},\"line_alpha\":{\"value\":0.1},\"line_color\":{\"value\":\"#1f77b4\"},\"top\":{\"field\":\"counts\"},\"width\":{\"value\":0.9},\"x\":{\"field\":\"x\"}},\"id\":\"4001\",\"type\":\"VBar\"},{\"attributes\":{\"callback\":null,\"factors\":[[\"Apples\",\"2015\"],[\"Apples\",\"2016\"],[\"Apples\",\"2017\"],[\"Pears\",\"2015\"],[\"Pears\",\"2016\"],[\"Pears\",\"2017\"],[\"Nectarines\",\"2015\"],[\"Nectarines\",\"2016\"],[\"Nectarines\",\"2017\"],[\"Plums\",\"2015\"],[\"Plums\",\"2016\"],[\"Plums\",\"2017\"],[\"Grapes\",\"2015\"],[\"Grapes\",\"2016\"],[\"Grapes\",\"2017\"],[\"Strawberries\",\"2015\"],[\"Strawberries\",\"2016\"],[\"Strawberries\",\"2017\"]],\"range_padding\":0.1},\"id\":\"3978\",\"type\":\"FactorRange\"},{\"attributes\":{\"data_source\":{\"id\":\"3977\",\"type\":\"ColumnDataSource\"},\"glyph\":{\"id\":\"4000\",\"type\":\"VBar\"},\"hover_glyph\":null,\"muted_glyph\":null,\"nonselection_glyph\":{\"id\":\"4001\",\"type\":\"VBar\"},\"selection_glyph\":null,\"view\":{\"id\":\"4003\",\"type\":\"CDSView\"}},\"id\":\"4002\",\"type\":\"GlyphRenderer\"},{\"attributes\":{\"source\":{\"id\":\"3977\",\"type\":\"ColumnDataSource\"}},\"id\":\"4003\",\"type\":\"CDSView\"},{\"attributes\":{},\"id\":\"4149\",\"type\":\"UnionRenderers\"},{\"attributes\":{\"text\":\"Fruit Counts by Year\"},\"id\":\"3980\",\"type\":\"Title\"},{\"attributes\":{},\"id\":\"4150\",\"type\":\"Selection\"},{\"attributes\":{\"callback\":null,\"start\":0},\"id\":\"3983\",\"type\":\"DataRange1d\"},{\"attributes\":{},\"id\":\"3985\",\"type\":\"CategoricalScale\"},{\"attributes\":{},\"id\":\"3987\",\"type\":\"LinearScale\"},{\"attributes\":{\"formatter\":{\"id\":\"4145\",\"type\":\"CategoricalTickFormatter\"},\"major_label_orientation\":1,\"ticker\":{\"id\":\"3990\",\"type\":\"CategoricalTicker\"}},\"id\":\"3989\",\"type\":\"CategoricalAxis\"},{\"attributes\":{},\"id\":\"4147\",\"type\":\"BasicTickFormatter\"},{\"attributes\":{},\"id\":\"3990\",\"type\":\"CategoricalTicker\"},{\"attributes\":{\"grid_line_color\":null,\"ticker\":{\"id\":\"3990\",\"type\":\"CategoricalTicker\"}},\"id\":\"3992\",\"type\":\"Grid\"},{\"attributes\":{\"formatter\":{\"id\":\"4147\",\"type\":\"BasicTickFormatter\"},\"ticker\":{\"id\":\"3994\",\"type\":\"BasicTicker\"}},\"id\":\"3993\",\"type\":\"LinearAxis\"},{\"attributes\":{},\"id\":\"3994\",\"type\":\"BasicTicker\"},{\"attributes\":{\"dimension\":1,\"ticker\":{\"id\":\"3994\",\"type\":\"BasicTicker\"}},\"id\":\"3997\",\"type\":\"Grid\"},{\"attributes\":{\"active_drag\":\"auto\",\"active_inspect\":\"auto\",\"active_multi\":null,\"active_scroll\":\"auto\",\"active_tap\":\"auto\"},\"id\":\"3998\",\"type\":\"Toolbar\"},{\"attributes\":{},\"id\":\"4145\",\"type\":\"CategoricalTickFormatter\"},{\"attributes\":{\"fill_color\":{\"value\":\"#1f77b4\"},\"line_color\":{\"value\":\"#1f77b4\"},\"top\":{\"field\":\"counts\"},\"width\":{\"value\":0.9},\"x\":{\"field\":\"x\"}},\"id\":\"4000\",\"type\":\"VBar\"}],\"root_ids\":[\"3979\"]},\"title\":\"Bokeh Application\",\"version\":\"1.4.0\"}};\n",
       "  var render_items = [{\"docid\":\"51f3265c-7cd5-4f80-ad5f-d29ef78d440d\",\"roots\":{\"3979\":\"347b00f8-792b-4c89-adfa-7ac2bede99e4\"}}];\n",
       "  root.Bokeh.embed.embed_items_notebook(docs_json, render_items);\n",
       "\n",
       "  }\n",
       "  if (root.Bokeh !== undefined) {\n",
       "    embed_document(root);\n",
       "  } else {\n",
       "    var attempts = 0;\n",
       "    var timer = setInterval(function(root) {\n",
       "      if (root.Bokeh !== undefined) {\n",
       "        clearInterval(timer);\n",
       "        embed_document(root);\n",
       "      } else {\n",
       "        attempts++;\n",
       "        if (attempts > 100) {\n",
       "          clearInterval(timer);\n",
       "          console.log(\"Bokeh: ERROR: Unable to run BokehJS code because BokehJS library is missing\");\n",
       "        }\n",
       "      }\n",
       "    }, 10, root)\n",
       "  }\n",
       "})(window);"
      ],
      "application/vnd.bokehjs_exec.v0+json": ""
     },
     "metadata": {
      "application/vnd.bokehjs_exec.v0+json": {
       "id": "3979"
      }
     },
     "output_type": "display_data"
    }
   ],
   "source": [
    "from bokeh.models import ColumnDataSource, FactorRange\n",
    "\n",
    "fruits = ['Apples', 'Pears', 'Nectarines', 'Plums', 'Grapes', 'Strawberries']\n",
    "years = ['2015', '2016', '2017']\n",
    "\n",
    "data = {'fruits' : fruits,\n",
    "        '2015'   : [2, 1, 4, 3, 2, 4],\n",
    "        '2016'   : [5, 3, 3, 2, 4, 6],\n",
    "        '2017'   : [3, 2, 4, 4, 5, 3]}\n",
    "\n",
    "# this creates [ (\"Apples\", \"2015\"), (\"Apples\", \"2016\"), (\"Apples\", \"2017\"), (\"Pears\", \"2015), ... ]\n",
    "x = [ (fruit, year) for fruit in fruits for year in years ]\n",
    "counts = sum(zip(data['2015'], data['2016'], data['2017']), ()) # like an hstack\n",
    "\n",
    "source = ColumnDataSource(data=dict(x=x, counts=counts))\n",
    "\n",
    "p = figure(x_range=FactorRange(*x), plot_height=250, title=\"Fruit Counts by Year\",\n",
    "           toolbar_location=None, tools=\"\")\n",
    "\n",
    "p.vbar(x='x', top='counts', width=0.9, source=source)\n",
    "\n",
    "p.y_range.start = 0\n",
    "p.x_range.range_padding = 0.1\n",
    "p.xaxis.major_label_orientation = 1\n",
    "p.xgrid.grid_line_color = None\n",
    "\n",
    "show(p)"
   ]
  },
  {
   "cell_type": "markdown",
   "metadata": {},
   "source": [
    "## Heat Maps热力图"
   ]
  },
  {
   "cell_type": "code",
   "execution_count": null,
   "metadata": {},
   "outputs": [],
   "source": []
  }
 ],
 "metadata": {
  "kernelspec": {
   "display_name": "Python 3",
   "language": "python",
   "name": "python3"
  },
  "language_info": {
   "codemirror_mode": {
    "name": "ipython",
    "version": 3
   },
   "file_extension": ".py",
   "mimetype": "text/x-python",
   "name": "python",
   "nbconvert_exporter": "python",
   "pygments_lexer": "ipython3",
   "version": "3.6.5"
  },
  "toc": {
   "base_numbering": 1,
   "nav_menu": {},
   "number_sections": true,
   "sideBar": true,
   "skip_h1_title": false,
   "title_cell": "Table of Contents",
   "title_sidebar": "Contents",
   "toc_cell": false,
   "toc_position": {},
   "toc_section_display": true,
   "toc_window_display": false
  },
  "varInspector": {
   "cols": {
    "lenName": 16,
    "lenType": 16,
    "lenVar": 40
   },
   "kernels_config": {
    "python": {
     "delete_cmd_postfix": "",
     "delete_cmd_prefix": "del ",
     "library": "var_list.py",
     "varRefreshCmd": "print(var_dic_list())"
    },
    "r": {
     "delete_cmd_postfix": ") ",
     "delete_cmd_prefix": "rm(",
     "library": "var_list.r",
     "varRefreshCmd": "cat(var_dic_list()) "
    }
   },
   "types_to_exclude": [
    "module",
    "function",
    "builtin_function_or_method",
    "instance",
    "_Feature"
   ],
   "window_display": false
  }
 },
 "nbformat": 4,
 "nbformat_minor": 4
}

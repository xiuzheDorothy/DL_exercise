{
 "cells": [
  {
   "cell_type": "markdown",
   "metadata": {},
   "source": [
    "# where should we begin?\n",
    "首先先看这么一张图片\n",
    "![](https://s2.ax1x.com/2020/02/07/1gsKje.png)"
   ]
  },
  {
   "cell_type": "markdown",
   "metadata": {},
   "source": [
    "## sklearn进行k近邻分类\n",
    "莫烦python的教程指出：sklearn的机器学习方法是通用的，也就是说通过这个方法可以推演出其他，那就先试一试最简单的k近邻分类（利用所给的鸢尾花数据集）"
   ]
  },
  {
   "cell_type": "code",
   "execution_count": 1,
   "metadata": {},
   "outputs": [],
   "source": [
    "import numpy as np\n",
    "import sklearn\n",
    "from sklearn import datasets\n",
    "from sklearn.model_selection import train_test_split\n",
    "#model_selection 现被用于sklearn的模型选择，继承了许多模型，包括分类，聚类，回归。。。\n",
    "from sklearn.neighbors import KNeighborsClassifier"
   ]
  },
  {
   "cell_type": "code",
   "execution_count": 2,
   "metadata": {},
   "outputs": [],
   "source": [
    "iris=datasets.load_iris()\n",
    "iris_X=iris.data\n",
    "iris_y=iris.target"
   ]
  },
  {
   "cell_type": "code",
   "execution_count": 4,
   "metadata": {},
   "outputs": [
    {
     "name": "stdout",
     "output_type": "stream",
     "text": [
      "[[5.1 3.5 1.4 0.2]\n",
      " [4.9 3.  1.4 0.2]]\n",
      "(150, 4)\n"
     ]
    }
   ],
   "source": [
    "print(iris_X[:2,:])\n",
    "print(iris_X.shape)"
   ]
  },
  {
   "cell_type": "markdown",
   "metadata": {},
   "source": [
    "可见iris数据集包含150个数据项，每一项有4个特征"
   ]
  },
  {
   "cell_type": "code",
   "execution_count": 13,
   "metadata": {},
   "outputs": [],
   "source": [
    "X_train,X_test,y_train,y_test=train_test_split(iris_X,iris_y,test_size=0.3) # train test 分割，同时打乱数据"
   ]
  },
  {
   "cell_type": "markdown",
   "metadata": {},
   "source": [
    "### 概述\n",
    "注意这是数据预处理中的方法：\n",
    "\n",
    "- Fit(): Method calculates the parameters μ and σ and saves them as internal objects.\n",
    "\n",
    "解释：简单来说，就是求得训练集X的均值，方差，最值等这些训练集X固有的属性。可以理解为一个训练过程\n",
    "\n",
    "- Transform(): Method using these calculated parameters apply the transformation to a particular dataset.\n",
    "\n",
    "解释：在Fit的基础上，进行标准化，降维，归一化等操作（看具体用的是哪个工具，如PCA，StandardScaler等）。\n",
    "\n",
    "- Fit_transform(): joins the fit() and transform() method for transformation of dataset.\n",
    "\n",
    "解释：fit_transform是fit和transform的组合，既包括了训练又包含了转换。\n"
   ]
  },
  {
   "cell_type": "code",
   "execution_count": 15,
   "metadata": {},
   "outputs": [
    {
     "name": "stdout",
     "output_type": "stream",
     "text": [
      "[2 2 0 0 1 2 2 0 0 2 2 1 1 0 0 2 0 0 1 2 1 1 0 1 2 0 2 1 2 2 2 0 2 1 0 0 2\n",
      " 1 2 0 0 0 2 2 0]\n",
      "[1 2 0 0 1 2 2 0 0 2 2 1 1 0 0 2 0 0 1 2 1 1 0 1 2 0 2 1 2 2 2 0 1 1 0 0 2\n",
      " 1 2 0 0 0 2 2 0]\n"
     ]
    }
   ],
   "source": [
    "knn=KNeighborsClassifier()\n",
    "knn.fit(X_train,y_train)\n",
    "print(knn.predict(X_test))\n",
    "print(y_test)"
   ]
  },
  {
   "cell_type": "code",
   "execution_count": null,
   "metadata": {},
   "outputs": [],
   "source": []
  }
 ],
 "metadata": {
  "kernelspec": {
   "display_name": "Python 3",
   "language": "python",
   "name": "python3"
  },
  "language_info": {
   "codemirror_mode": {
    "name": "ipython",
    "version": 3
   },
   "file_extension": ".py",
   "mimetype": "text/x-python",
   "name": "python",
   "nbconvert_exporter": "python",
   "pygments_lexer": "ipython3",
   "version": "3.6.5"
  },
  "toc": {
   "base_numbering": 1,
   "nav_menu": {},
   "number_sections": true,
   "sideBar": true,
   "skip_h1_title": false,
   "title_cell": "Table of Contents",
   "title_sidebar": "Contents",
   "toc_cell": false,
   "toc_position": {},
   "toc_section_display": true,
   "toc_window_display": false
  }
 },
 "nbformat": 4,
 "nbformat_minor": 4
}

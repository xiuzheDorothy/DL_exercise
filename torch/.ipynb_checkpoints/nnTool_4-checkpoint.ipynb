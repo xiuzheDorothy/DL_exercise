{
 "cells": [
  {
   "cell_type": "markdown",
   "metadata": {},
   "source": [
    "# Torch.nn总结\n",
    "本节对Torch.nn的这一章的内容进行回顾总结，因为nn涵盖的东西很广，所以会不断更新\n",
    "\n",
    "[torch.nn 到底是什么？](https://pytorch.apachecn.org/docs/1.2/beginner/nn_tutorial.html)\n",
    "\n",
    "[Torch.nn封装参考文献](https://pytorch.apachecn.org/docs/1.2/nn.html)\n",
    "\n",
    "- torch.nn\n",
    "    - Module：创建一个可调用的，其表现类似于函数，但又可以包含状态（比如神经网络层的权重）的对象。该对象知道它包含的Parameter（s），并可以将梯度置为0，以及对梯度进行循环以更新权重等。\n",
    "    - Parameter：是一个对张量的封装，它告诉Module在反向传播阶段更新权重。只有设置了requires_grad属性的张量会被更新。\n",
    "    - functional：一个包含了梯度函数、损失函数等以及一些无状态的层，如卷积层和线性层的模块（通常使用F作为导入的别名）。"
   ]
  },
  {
   "cell_type": "markdown",
   "metadata": {},
   "source": [
    "## Parameters（参数）\n",
    "`class torch.nn.Parameter`\n",
    "\n",
    "Parameters类是Tensor 的子类, 不过相对于它的父类，Parameters类有一个很重要的特性就是当其在 Module类中被使用并被当做这个Module类的**模块属性**的时候，那么这个Parameters对象会被自动地添加到这个Module类的参数列表(list of parameters)之中，同时也就会被添加入此Module类的 parameters()方法所返回的参数迭代器中\n",
    "### 如何定义一个新的模型参数\n",
    "Parameters:\n",
    "- data (Tensor) – 参数张量(parameter tensor).\n",
    "- requires_grad (bool, optional) – 参数是否需要梯度， 默认为 True。\n",
    "\n",
    "也就是比如我们在使用class定义一个层时，其中的可学习参数（权重与偏置）可以在构造函数\\__init\\__中定义，并封装成Parameter，如下例：\n",
    "```python\n",
    "class Linear(nn.Module): # 继承nn.Module\n",
    "    def __init__(self, in_features, out_features):\n",
    "        super(Linear, self).__init__() # 等价于nn.Module.__init__(self)\n",
    "        self.w = nn.Parameter(t.randn(in_features, out_features))\n",
    "        self.b = nn.Parameter(t.randn(out_features))\n",
    "```"
   ]
  },
  {
   "cell_type": "markdown",
   "metadata": {},
   "source": [
    "### 访问模型参数\n",
    "通过`Module`类的`parameters()`或者`named_parameters`方法来访问所有参数（以迭代器的形式返回），后者除了返回参数`Tensor`外还会返回其名字\n",
    "\n",
    "另外返回的param的类型为torch.nn.parameter.Parameter\n",
    "### 初始化模型参数的方法\n",
    "见nnTool_2.ipynb"
   ]
  }
 ],
 "metadata": {
  "kernelspec": {
   "display_name": "Python 3",
   "language": "python",
   "name": "python3"
  },
  "language_info": {
   "codemirror_mode": {
    "name": "ipython",
    "version": 3
   },
   "file_extension": ".py",
   "mimetype": "text/x-python",
   "name": "python",
   "nbconvert_exporter": "python",
   "pygments_lexer": "ipython3",
   "version": "3.6.5"
  },
  "toc": {
   "base_numbering": 1,
   "nav_menu": {},
   "number_sections": true,
   "sideBar": true,
   "skip_h1_title": false,
   "title_cell": "Table of Contents",
   "title_sidebar": "Contents",
   "toc_cell": false,
   "toc_position": {},
   "toc_section_display": true,
   "toc_window_display": false
  }
 },
 "nbformat": 4,
 "nbformat_minor": 4
}

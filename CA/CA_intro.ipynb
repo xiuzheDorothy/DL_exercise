{
 "cells": [
  {
   "cell_type": "markdown",
   "metadata": {},
   "source": [
    "# CA 元胞自动机\n",
    "## 概述\n",
    "元胞自动机是一个空间和状态都是离散的模型，可以用一个四元组表示：\n",
    "$$C=(L_a,S,N,f)$$\n",
    "- S表示细胞的状态，有限的、离散的状态集合；\n",
    "- $L_a$表示元胞空间，a是一个正整数，表示细胞空间的维度数\n",
    "- $N$表示领域内元胞的组合，$n$即邻居个数\n",
    "- $f$表示状态转移规则(函数)\n",
    "\n",
    "序号i个体在$t=1,...,n$时刻的状态\n",
    "$$S_i^{t+1}=f(S_i^t,N^t)=f(S_i^t,S_1^t,S_2^t,...,S_n^t)$$\n",
    "\n",
    "> 状态转移规则可以是确定的，也可以是随机的"
   ]
  },
  {
   "cell_type": "code",
   "execution_count": 5,
   "metadata": {},
   "outputs": [],
   "source": [
    "import numpy as np\n",
    "import matplotlib.pyplot as plt"
   ]
  },
  {
   "cell_type": "markdown",
   "metadata": {},
   "source": [
    "## 简单示例\n",
    "这里实现了一个一维CA模型，5个rows代表5个时间序列CA的变化，每一行是当前状态的一维CA数组\n",
    "\n",
    "记住numpy.array的索引也是0开头"
   ]
  },
  {
   "cell_type": "code",
   "execution_count": 25,
   "metadata": {},
   "outputs": [
    {
     "name": "stdout",
     "output_type": "stream",
     "text": [
      "[[0. 0. 0. 0. 0. 1. 0. 0. 0. 0. 0.]\n",
      " [0. 0. 0. 0. 0. 0. 0. 0. 0. 0. 0.]\n",
      " [0. 0. 0. 0. 0. 0. 0. 0. 0. 0. 0.]\n",
      " [0. 0. 0. 0. 0. 0. 0. 0. 0. 0. 0.]\n",
      " [0. 0. 0. 0. 0. 0. 0. 0. 0. 0. 0.]\n",
      " [0. 0. 0. 0. 0. 0. 0. 0. 0. 0. 0.]\n",
      " [0. 0. 0. 0. 0. 0. 0. 0. 0. 0. 0.]\n",
      " [0. 0. 0. 0. 0. 0. 0. 0. 0. 0. 0.]\n",
      " [0. 0. 0. 0. 0. 0. 0. 0. 0. 0. 0.]\n",
      " [0. 0. 0. 0. 0. 0. 0. 0. 0. 0. 0.]]\n"
     ]
    }
   ],
   "source": [
    "rows=10\n",
    "cols=11\n",
    "ca=np.zeros((rows,cols))\n",
    "ca[0,5]=1\n",
    "print(ca)"
   ]
  },
  {
   "cell_type": "code",
   "execution_count": 26,
   "metadata": {},
   "outputs": [],
   "source": [
    "def plot_ca(array):# 显示函数\n",
    "    cmap=plt.get_cmap('Blues')\n",
    "    plt.imshow(array,interpolation='none',cmap=cmap)"
   ]
  },
  {
   "cell_type": "code",
   "execution_count": 29,
   "metadata": {},
   "outputs": [],
   "source": [
    "def step(array,i):# 状态转移函数\n",
    "    rows,cols=array.shape\n",
    "    for j in range(1,cols):\n",
    "        array[i,j]=sum(array[i-1,j-1:j+2])%2 # 转移规则  #区间左闭右开"
   ]
  },
  {
   "cell_type": "markdown",
   "metadata": {},
   "source": [
    "9个时间后会是如下图所示结果："
   ]
  },
  {
   "cell_type": "code",
   "execution_count": 34,
   "metadata": {},
   "outputs": [
    {
     "data": {
      "image/png": "[encoded data removed]",
      "text/plain": [
       "<Figure size 432x288 with 1 Axes>"
      ]
     },
     "metadata": {
      "needs_background": "light"
     },
     "output_type": "display_data"
    }
   ],
   "source": [
    "for i in range(1,10):\n",
    "    step(ca,i)#rows:0->1\n",
    "plot_ca(ca)"
   ]
  },
  {
   "cell_type": "markdown",
   "metadata": {},
   "source": [
    "### 互相关运算：基于numpy的更新规则优化\n",
    "如果使用`step()`中的for循环虽然简单，但是开销大，这里试图做一些修改：**用数组乘法代替切片邻域**\n",
    "$$C_k=\\sum_{n=0}^{N-1}a_{n+k}*W_n$$\n",
    "$C_k$为互相关结果，$W_n$为window（卷积核），$a$为array，$N$为window的长度"
   ]
  },
  {
   "cell_type": "code",
   "execution_count": 36,
   "metadata": {},
   "outputs": [],
   "source": [
    "def c_k(array,window,k):\n",
    "    N=len(window)\n",
    "    return sum(a[k:k+N]*window)# a[k]到a[k+N]"
   ]
  },
  {
   "cell_type": "markdown",
   "metadata": {},
   "source": [
    "## 简单的流言模型\n",
    "二维网格"
   ]
  },
  {
   "cell_type": "code",
   "execution_count": 86,
   "metadata": {},
   "outputs": [],
   "source": [
    "def spread(cell,size):\n",
    "    cell_new=cell.copy()# 创建一个新矩阵，不在原矩阵上进行运算\n",
    "    for row in range(1,size-1):#[1,99)左开右闭\n",
    "        for col in range(1,size-1):\n",
    "            rumor_number=sum(cell[row-1,col-1:col+2])+sum(cell[row,col-1:col+2])+sum(cell[row+1,col-1:col+2])\n",
    "            if rumor_number>0:\n",
    "                cell_new[row,col]=1\n",
    "    return cell_new"
   ]
  },
  {
   "cell_type": "code",
   "execution_count": 106,
   "metadata": {},
   "outputs": [],
   "source": [
    "size=100 #100*100narray，其实是98*98的有效范围，相当于做一个padding方便卷积\n",
    "cell=np.zeros((size,size))\n",
    "cell[44,44]=1"
   ]
  },
  {
   "cell_type": "code",
   "execution_count": 96,
   "metadata": {},
   "outputs": [],
   "source": []
  },
  {
   "cell_type": "code",
   "execution_count": 110,
   "metadata": {},
   "outputs": [
    {
     "name": "stdout",
     "output_type": "stream",
     "text": [
      "43\n"
     ]
    },
    {
     "data": {
      "image/png": "[encoded data removed]",
      "text/plain": [
       "<Figure size 432x288 with 1 Axes>"
      ]
     },
     "metadata": {
      "needs_background": "light"
     },
     "output_type": "display_data"
    }
   ],
   "source": [
    "cell_new=spread(cell,size)\n",
    "times=1\n",
    "while cell_new[1,1]<1:\n",
    "    cell_new=spread(cell_new,size)\n",
    "    plot_ca(cell_new)\n",
    "    times+=1\n",
    "print(times)"
   ]
  },
  {
   "cell_type": "code",
   "execution_count": 150,
   "metadata": {},
   "outputs": [],
   "source": [
    "# 加上一点概率\n",
    "def spread_pro(cell,size):\n",
    "    cell_new=cell.copy()# 创建一个新矩阵，不在原矩阵上进行运算\n",
    "    for row in range(1,size-1):#[1,99)左开右闭\n",
    "        for col in range(1,size-1):\n",
    "            rumor_number=sum(cell[row-1,col-1:col+2])+sum(cell[row,col-1:col+2])+sum(cell[row+1,col-1:col+2])\n",
    "            if rumor_number>0:\n",
    "                if cell[row,col]==1:# 已经是传谣者\n",
    "                    cell_new[row,col]=1\n",
    "                else:#如果不是传谣者则有50%的概率听从谣言\n",
    "                    seed=np.random.rand(1)\n",
    "                    if bool(seed>0.5):\n",
    "                        cell_new[row,col]=1\n",
    "                \n",
    "    return cell_new"
   ]
  },
  {
   "cell_type": "code",
   "execution_count": 128,
   "metadata": {},
   "outputs": [],
   "source": [
    "size=10 #100*100narray，其实是98*98的有效范围，相当于做一个padding方便卷积\n",
    "cell=np.zeros((size,size))\n",
    "cell[int(size/2),int(size/2)]=1\n",
    "\n",
    "cell_new=spread_pro(cell,size)"
   ]
  },
  {
   "cell_type": "code",
   "execution_count": 131,
   "metadata": {},
   "outputs": [
    {
     "data": {
      "image/png": "[encoded data removed]",
      "text/plain": [
       "<Figure size 432x288 with 1 Axes>"
      ]
     },
     "metadata": {
      "needs_background": "light"
     },
     "output_type": "display_data"
    }
   ],
   "source": [
    "cell_new=spread_pro(cell_new,size)\n",
    "plot_ca(cell_new)"
   ]
  },
  {
   "cell_type": "code",
   "execution_count": 151,
   "metadata": {},
   "outputs": [],
   "source": [
    "def spread_SetPro(cell,size,probility):# 可以设置概率的spraed\n",
    "    cell_new=cell.copy()# 创建一个新矩阵，不在原矩阵上进行运算\n",
    "    for row in range(1,size-1):#[1,99)左开右闭\n",
    "        for col in range(1,size-1):\n",
    "            rumor_number=sum(cell[row-1,col-1:col+2])+sum(cell[row,col-1:col+2])+sum(cell[row+1,col-1:col+2])\n",
    "            if rumor_number>0:\n",
    "                if cell[row,col]==1:# 已经是传谣者\n",
    "                    cell_new[row,col]=1\n",
    "                else:#如果不是传谣者则有50%的概率听从谣言\n",
    "                    seed=np.random.rand(1)\n",
    "                    if bool(seed<probility):\n",
    "                        cell_new[row,col]=1\n",
    "                \n",
    "    return cell_new"
   ]
  },
  {
   "cell_type": "code",
   "execution_count": 162,
   "metadata": {},
   "outputs": [],
   "source": [
    "size=100\n",
    "cell=np.zeros((size,size))\n",
    "cell[int(size/2),int(size/2)]=1\n",
    "rumor_count_0_5=[0]\n",
    "\n",
    "cell_new=spread_SetPro(cell,size,0.5)\n",
    "rumor_count_0_5.append(np.sum(cell_new))\n",
    "\n",
    "for i in range(20):\n",
    "    cell_new=spread_SetPro(cell_new,size,0.5)\n",
    "    rumor_count_0_5.append(np.sum(cell_new))"
   ]
  },
  {
   "cell_type": "code",
   "execution_count": 167,
   "metadata": {},
   "outputs": [],
   "source": [
    "size=100\n",
    "cell=np.zeros((size,size))\n",
    "cell[int(size/2),int(size/2)]=1\n",
    "rumor_count_0_2=[0]\n",
    "\n",
    "cell_new=spread_SetPro(cell,size,0.01)\n",
    "rumor_count_0_2.append(np.sum(cell_new))\n",
    "\n",
    "for i in range(20):\n",
    "    cell_new=spread_SetPro(cell_new,size,0.01)\n",
    "    rumor_count_0_2.append(np.sum(cell_new))"
   ]
  },
  {
   "cell_type": "code",
   "execution_count": 168,
   "metadata": {},
   "outputs": [
    {
     "data": {
      "text/plain": [
       "[<matplotlib.lines.Line2D at 0x1f8043b6cc0>]"
      ]
     },
     "execution_count": 168,
     "metadata": {},
     "output_type": "execute_result"
    },
    {
     "data": {
      "image/png": "[encoded data removed]",
      "text/plain": [
       "<Figure size 432x288 with 1 Axes>"
      ]
     },
     "metadata": {
      "needs_background": "light"
     },
     "output_type": "display_data"
    }
   ],
   "source": [
    "plt.plot(np.arange(22),rumor_count_0_5)\n",
    "plt.plot(np.arange(22),rumor_count_0_2)"
   ]
  },
  {
   "cell_type": "code",
   "execution_count": null,
   "metadata": {},
   "outputs": [],
   "source": []
  }
 ],
 "metadata": {
  "kernelspec": {
   "display_name": "Python 3",
   "language": "python",
   "name": "python3"
  },
  "language_info": {
   "codemirror_mode": {
    "name": "ipython",
    "version": 3
   },
   "file_extension": ".py",
   "mimetype": "text/x-python",
   "name": "python",
   "nbconvert_exporter": "python",
   "pygments_lexer": "ipython3",
   "version": "3.6.5"
  },
  "toc": {
   "base_numbering": 1,
   "nav_menu": {},
   "number_sections": true,
   "sideBar": true,
   "skip_h1_title": false,
   "title_cell": "Table of Contents",
   "title_sidebar": "Contents",
   "toc_cell": false,
   "toc_position": {},
   "toc_section_display": true,
   "toc_window_display": false
  }
 },
 "nbformat": 4,
 "nbformat_minor": 4
}
